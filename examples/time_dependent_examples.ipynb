{
 "cells": [
  {
   "cell_type": "markdown",
   "metadata": {},
   "source": [
    "# "
   ]
  },
  {
   "cell_type": "markdown",
   "metadata": {},
   "source": [
    "# Time dependent arrivals via thinning"
   ]
  },
  {
   "cell_type": "markdown",
   "metadata": {},
   "source": [
    "## Imports"
   ]
  },
  {
   "cell_type": "code",
   "execution_count": 1,
   "metadata": {},
   "outputs": [],
   "source": [
    "\n",
    "from typing import Optional\n"
   ]
  },
  {
   "cell_type": "markdown",
   "metadata": {},
   "source": [
    "## `sim-tools` imports"
   ]
  },
  {
   "cell_type": "code",
   "execution_count": 2,
   "metadata": {},
   "outputs": [],
   "source": [
    "from sim_tools.datasets import load_banks_et_al_nspp"
   ]
  },
  {
   "cell_type": "markdown",
   "metadata": {},
   "source": [
    "## Load example data from Banks et al."
   ]
  },
  {
   "cell_type": "code",
   "execution_count": 3,
   "metadata": {},
   "outputs": [
    {
     "data": {
      "text/html": [
       "<div>\n",
       "<style scoped>\n",
       "    .dataframe tbody tr th:only-of-type {\n",
       "        vertical-align: middle;\n",
       "    }\n",
       "\n",
       "    .dataframe tbody tr th {\n",
       "        vertical-align: top;\n",
       "    }\n",
       "\n",
       "    .dataframe thead th {\n",
       "        text-align: right;\n",
       "    }\n",
       "</style>\n",
       "<table border=\"1\" class=\"dataframe\">\n",
       "  <thead>\n",
       "    <tr style=\"text-align: right;\">\n",
       "      <th></th>\n",
       "      <th>t</th>\n",
       "      <th>mean_iat</th>\n",
       "      <th>arrival_rate</th>\n",
       "    </tr>\n",
       "  </thead>\n",
       "  <tbody>\n",
       "    <tr>\n",
       "      <th>0</th>\n",
       "      <td>0</td>\n",
       "      <td>15</td>\n",
       "      <td>0.066667</td>\n",
       "    </tr>\n",
       "    <tr>\n",
       "      <th>1</th>\n",
       "      <td>60</td>\n",
       "      <td>12</td>\n",
       "      <td>0.083333</td>\n",
       "    </tr>\n",
       "    <tr>\n",
       "      <th>2</th>\n",
       "      <td>120</td>\n",
       "      <td>7</td>\n",
       "      <td>0.142857</td>\n",
       "    </tr>\n",
       "    <tr>\n",
       "      <th>3</th>\n",
       "      <td>180</td>\n",
       "      <td>5</td>\n",
       "      <td>0.200000</td>\n",
       "    </tr>\n",
       "    <tr>\n",
       "      <th>4</th>\n",
       "      <td>240</td>\n",
       "      <td>8</td>\n",
       "      <td>0.125000</td>\n",
       "    </tr>\n",
       "    <tr>\n",
       "      <th>5</th>\n",
       "      <td>300</td>\n",
       "      <td>10</td>\n",
       "      <td>0.100000</td>\n",
       "    </tr>\n",
       "    <tr>\n",
       "      <th>6</th>\n",
       "      <td>360</td>\n",
       "      <td>15</td>\n",
       "      <td>0.066667</td>\n",
       "    </tr>\n",
       "    <tr>\n",
       "      <th>7</th>\n",
       "      <td>420</td>\n",
       "      <td>20</td>\n",
       "      <td>0.050000</td>\n",
       "    </tr>\n",
       "    <tr>\n",
       "      <th>8</th>\n",
       "      <td>480</td>\n",
       "      <td>20</td>\n",
       "      <td>0.050000</td>\n",
       "    </tr>\n",
       "  </tbody>\n",
       "</table>\n",
       "</div>"
      ],
      "text/plain": [
       "     t  mean_iat  arrival_rate\n",
       "0    0        15      0.066667\n",
       "1   60        12      0.083333\n",
       "2  120         7      0.142857\n",
       "3  180         5      0.200000\n",
       "4  240         8      0.125000\n",
       "5  300        10      0.100000\n",
       "6  360        15      0.066667\n",
       "7  420        20      0.050000\n",
       "8  480        20      0.050000"
      ]
     },
     "execution_count": 3,
     "metadata": {},
     "output_type": "execute_result"
    }
   ],
   "source": [
    "data = load_banks_et_al_nspp()\n",
    "data"
   ]
  },
  {
   "cell_type": "code",
   "execution_count": 4,
   "metadata": {},
   "outputs": [],
   "source": [
    "import itertools\n",
    "import pandas as pd\n",
    "import numpy as np\n",
    "\n",
    "class NSPPThinning:\n",
    "\n",
    "    def __init__(self, data, random_seed1: Optional[int]=None, random_seed2: Optional[int]=None):\n",
    "        '''\n",
    "        Non Stationary Poisson Process via Thinning.\n",
    "\n",
    "        Time dependency is handled for a single table\n",
    "        consisting of equally spaced intervals.         \n",
    "\n",
    "        Params:\n",
    "        ------\n",
    "        data: pandas.DataFrame\n",
    "            list of time points during a period for transition between rates\n",
    "            and list arrival rates in that period. Labels should be \"t\"\n",
    "            and \"arrival_rate\" respectively.           \n",
    "\n",
    "        random_seed1: int\n",
    "        \n",
    "        random_seed2: int\n",
    "        '''\n",
    "\n",
    "        self.data = data\n",
    "        self.arr_rng = np.random.default_rng(random_seed1)\n",
    "        self.thinning_rng = np.random.default_rng(random_seed2)\n",
    "        self.lambda_max = data['arrival_rate'].max()\n",
    "        # assumes all other intervals are equal in length.\n",
    "        self.interval = int(data.iloc[1]['t'] - data.iloc[0]['t'])\n",
    "        self.rejects_last_sample = None\n",
    "\n",
    "    def sample(self, simulation_time: float) -> float:\n",
    "        '''\n",
    "        Run a single iteration of acceptance-rejection\n",
    "        thinning alg to sample the next inter-arrival time\n",
    "\n",
    "        Params:\n",
    "        ------\n",
    "        simulation_time: float\n",
    "            The current simulation time.  This is used to look up\n",
    "            the arrival rate for the time period.\n",
    "\n",
    "        Returns:\n",
    "        -------\n",
    "        float\n",
    "            The inter-arrival time\n",
    "        '''\n",
    "\n",
    "        for _ in itertools.count():\n",
    "\n",
    "            # this gives us the index of dataframe to use\n",
    "            t = int(simulation_time // self.interval) % len(self.data)\n",
    "            lambda_t = self.data['arrival_rate'].iloc[t]\n",
    "            \n",
    "            # set to a large number so that at least 1 sample taken!\n",
    "            u = np.Inf\n",
    "\n",
    "            # included for audit and tracking purposes.\n",
    "            self.rejects_last_sample = 0.0\n",
    "            \n",
    "            interarrival_time = 0.0\n",
    "            \n",
    "            # reject samples if u >= lambda_t / lambda_max\n",
    "            while u >= (lambda_t / self.lambda_max):\n",
    "                self.rejects_last_sample += 1\n",
    "                interarrival_time += self.arr_rng.exponential(1/self.lambda_max)\n",
    "                u = self.thinning_rng.uniform(0.0, 1.0)\n",
    "            \n",
    "            return interarrival_time"
   ]
  },
  {
   "cell_type": "code",
   "execution_count": 5,
   "metadata": {},
   "outputs": [
    {
     "name": "stdout",
     "output_type": "stream",
     "text": [
      "37.46 Patient arrival (IAT=37.46)\n",
      "73.02 Patient arrival (IAT=35.56)\n",
      "89.41 Patient arrival (IAT=16.39)\n",
      "96.79 Patient arrival (IAT=7.38)\n",
      "98.37 Patient arrival (IAT=1.58)\n",
      "104.94 Patient arrival (IAT=6.57)\n",
      "112.30 Patient arrival (IAT=7.35)\n",
      "121.49 Patient arrival (IAT=9.19)\n",
      "127.62 Patient arrival (IAT=6.14)\n",
      "135.25 Patient arrival (IAT=7.63)\n"
     ]
    }
   ],
   "source": [
    "# create arrivals and set random number seeds\n",
    "SEED_1 = 42\n",
    "SEED_2 = 101\n",
    "arrivals = NSPPThinning(data, SEED_1, SEED_2)\n",
    "\n",
    "# number of arrivals to simulate\n",
    "n_arrivals = 10\n",
    "\n",
    "# run simulation\n",
    "simulation_time = 0.0\n",
    "for _ in range(n_arrivals):\n",
    "    iat = arrivals.sample(simulation_time)\n",
    "    simulation_time += iat\n",
    "    print(f'{simulation_time:.2f} Patient arrival (IAT={iat:.2f})')\n"
   ]
  }
 ],
 "metadata": {
  "kernelspec": {
   "display_name": "sim_tools",
   "language": "python",
   "name": "python3"
  },
  "language_info": {
   "codemirror_mode": {
    "name": "ipython",
    "version": 3
   },
   "file_extension": ".py",
   "mimetype": "text/x-python",
   "name": "python",
   "nbconvert_exporter": "python",
   "pygments_lexer": "ipython3",
   "version": "3.11.6"
  },
  "orig_nbformat": 4
 },
 "nbformat": 4,
 "nbformat_minor": 2
}
