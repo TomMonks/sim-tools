{
 "cells": [
  {
   "cell_type": "markdown",
   "id": "f4a0ed82-bca7-463c-acd4-cfe28efb27a5",
   "metadata": {},
   "source": [
    "# Automating the selection of the number of replications\n",
    "\n",
    "`sim-tools` provides an implementation of the \"replications algorithm\" from [Hoad, Robinson, & Davies (2010)](https://www.jstor.org/stable/40926090). Given a performance measure, and a user set CI half width precision, automatically select the number of replications.\n",
    "\n",
    "The algorithm combines the \"confidence interval\" method for selecting the number of replications with a sequential look-ahead procedure to determine if a desired precision in CI is maintained given more replication.\n",
    "\n",
    "> If you make use of the code in your work **please cite the GitHub repository and also the original authors article**:\n",
    ">> Hoad, Robinson, & Davies (2010). Automated selection of the number of replications for a discrete-event simulation. *Journal of the Operational Research Society*. [https://www.jstor.org/stable/40926090](https://www.jstor.org/stable/40926090)\n",
    "\n"
   ]
  },
  {
   "cell_type": "markdown",
   "id": "1a36652d-a7bf-464a-bda0-013c4345032f",
   "metadata": {},
   "source": [
    "## Imports"
   ]
  },
  {
   "cell_type": "code",
   "execution_count": 1,
   "id": "c9bb2dcc-1e30-4215-a750-d398edfd8174",
   "metadata": {},
   "outputs": [],
   "source": [
    "import numpy as np\n",
    "from typing import Optional\n",
    "from collections.abc import Callable"
   ]
  },
  {
   "cell_type": "markdown",
   "id": "da18bd83",
   "metadata": {},
   "source": [
    "## `sim-tools` imports"
   ]
  },
  {
   "cell_type": "code",
   "execution_count": 2,
   "id": "9f975b05",
   "metadata": {},
   "outputs": [],
   "source": [
    "from sim_tools.output_analysis import (\n",
    "    ReplicationsAlgorithm,  \n",
    "    ReplicationsAlgorithmModelAdapter,\n",
    "    ReplicationTabulizer,\n",
    ")"
   ]
  },
  {
   "cell_type": "markdown",
   "id": "6fbcabe4-0c6f-4420-87f3-0269f3f90bd5",
   "metadata": {},
   "source": [
    "## Simulation model\n",
    "\n",
    "We will make use of one of an example `simpy` models `treat-sim` that [can be installed from PyPI](https://pypi.org/project/treat-sim/)\n",
    "\n",
    "```bash\n",
    "pip install treat-sim\n",
    "```\n",
    "\n",
    "You can read more about the model on PyPI and on the [GitHub repo](https://github.com/pythonhealthdatascience/stars-treat-sim)\n",
    "\n",
    "> The model is **terminating system** based on on exercise 13 from Nelson (2013) page 170.\n",
    ">> Nelson. B.L. (2013). Foundations and methods of stochastic simulation. Springer.\n"
   ]
  },
  {
   "cell_type": "code",
   "execution_count": 3,
   "id": "b2cebc6b-5e70-4db6-a0d7-0fe24c8e082f",
   "metadata": {},
   "outputs": [],
   "source": [
    "from treat_sim.model import Scenario, single_run"
   ]
  },
  {
   "cell_type": "markdown",
   "id": "0e901578-a193-452b-bdc8-7a7c4d16e7e9",
   "metadata": {},
   "source": [
    "## Running a replication of the model\n",
    "\n",
    "To run the model you need to create an instance of `Scenario`. An instance of `Scenario` contains all of the parameters to use in the model (e.g. resources and statistical distributions for arrivals and activities). A default scenario is created like so:"
   ]
  },
  {
   "cell_type": "code",
   "execution_count": 4,
   "id": "e47c3027-dd29-4cb2-bf76-d9922636208c",
   "metadata": {},
   "outputs": [],
   "source": [
    "scenario = Scenario()"
   ]
  },
  {
   "cell_type": "markdown",
   "id": "e0304f96-9155-49c2-97de-cc4629f30056",
   "metadata": {},
   "source": [
    "To run a replication of the model use the `single_run` function. You need to pass in an instance of `Scenario`.  The model uses common random number streams. To set the random numbers used change the `random_no_set` parameter"
   ]
  },
  {
   "cell_type": "code",
   "execution_count": 5,
   "id": "4f6f881e-8921-469c-8c02-2cb2a38d908b",
   "metadata": {},
   "outputs": [
    {
     "data": {
      "text/html": [
       "<div>\n",
       "<style scoped>\n",
       "    .dataframe tbody tr th:only-of-type {\n",
       "        vertical-align: middle;\n",
       "    }\n",
       "\n",
       "    .dataframe tbody tr th {\n",
       "        vertical-align: top;\n",
       "    }\n",
       "\n",
       "    .dataframe thead th {\n",
       "        text-align: right;\n",
       "    }\n",
       "</style>\n",
       "<table border=\"1\" class=\"dataframe\">\n",
       "  <thead>\n",
       "    <tr style=\"text-align: right;\">\n",
       "      <th>rep</th>\n",
       "      <th>1</th>\n",
       "    </tr>\n",
       "  </thead>\n",
       "  <tbody>\n",
       "    <tr>\n",
       "      <th>00_arrivals</th>\n",
       "      <td>227.000000</td>\n",
       "    </tr>\n",
       "    <tr>\n",
       "      <th>01a_triage_wait</th>\n",
       "      <td>57.120114</td>\n",
       "    </tr>\n",
       "    <tr>\n",
       "      <th>01b_triage_util</th>\n",
       "      <td>0.621348</td>\n",
       "    </tr>\n",
       "    <tr>\n",
       "      <th>02a_registration_wait</th>\n",
       "      <td>90.002385</td>\n",
       "    </tr>\n",
       "    <tr>\n",
       "      <th>02b_registration_util</th>\n",
       "      <td>0.836685</td>\n",
       "    </tr>\n",
       "    <tr>\n",
       "      <th>03a_examination_wait</th>\n",
       "      <td>14.688492</td>\n",
       "    </tr>\n",
       "    <tr>\n",
       "      <th>03b_examination_util</th>\n",
       "      <td>0.847295</td>\n",
       "    </tr>\n",
       "    <tr>\n",
       "      <th>04a_treatment_wait(non_trauma)</th>\n",
       "      <td>120.245474</td>\n",
       "    </tr>\n",
       "    <tr>\n",
       "      <th>04b_treatment_util(non_trauma)</th>\n",
       "      <td>0.912127</td>\n",
       "    </tr>\n",
       "    <tr>\n",
       "      <th>05_total_time(non-trauma)</th>\n",
       "      <td>233.882040</td>\n",
       "    </tr>\n",
       "    <tr>\n",
       "      <th>06a_trauma_wait</th>\n",
       "      <td>133.813901</td>\n",
       "    </tr>\n",
       "    <tr>\n",
       "      <th>06b_trauma_util</th>\n",
       "      <td>0.834124</td>\n",
       "    </tr>\n",
       "    <tr>\n",
       "      <th>07a_treatment_wait(trauma)</th>\n",
       "      <td>3.715446</td>\n",
       "    </tr>\n",
       "    <tr>\n",
       "      <th>07b_treatment_util(trauma)</th>\n",
       "      <td>0.367507</td>\n",
       "    </tr>\n",
       "    <tr>\n",
       "      <th>08_total_time(trauma)</th>\n",
       "      <td>301.521195</td>\n",
       "    </tr>\n",
       "    <tr>\n",
       "      <th>09_throughput</th>\n",
       "      <td>161.000000</td>\n",
       "    </tr>\n",
       "  </tbody>\n",
       "</table>\n",
       "</div>"
      ],
      "text/plain": [
       "rep                                      1\n",
       "00_arrivals                     227.000000\n",
       "01a_triage_wait                  57.120114\n",
       "01b_triage_util                   0.621348\n",
       "02a_registration_wait            90.002385\n",
       "02b_registration_util             0.836685\n",
       "03a_examination_wait             14.688492\n",
       "03b_examination_util              0.847295\n",
       "04a_treatment_wait(non_trauma)  120.245474\n",
       "04b_treatment_util(non_trauma)    0.912127\n",
       "05_total_time(non-trauma)       233.882040\n",
       "06a_trauma_wait                 133.813901\n",
       "06b_trauma_util                   0.834124\n",
       "07a_treatment_wait(trauma)        3.715446\n",
       "07b_treatment_util(trauma)        0.367507\n",
       "08_total_time(trauma)           301.521195\n",
       "09_throughput                   161.000000"
      ]
     },
     "execution_count": 5,
     "metadata": {},
     "output_type": "execute_result"
    }
   ],
   "source": [
    "results = single_run(scenario, random_no_set=1)\n",
    "results.T"
   ]
  },
  {
   "cell_type": "markdown",
   "id": "033156b0-4894-4fc8-8746-6ed73ee10795",
   "metadata": {},
   "source": [
    "## Analysing a model using a sequential algorithm\n",
    "\n",
    "`treat-sim` has been designed so that it is possible to run individual replications of the model as desired. This could be in a sequential manner as we saw above or in a batch. For example, the replications algorithm requires 3 initial replications.\n",
    "\n",
    "The `single_run` function returns a `pandas.DataFrame` (a single row).  We can access a single performance measure like so:\n",
    "\n",
    "```python\n",
    "single_run(scenario, random_no_set=rep)[\"01a_triage_wait\"].iloc[0]\n",
    "```"
   ]
  },
  {
   "cell_type": "code",
   "execution_count": 6,
   "id": "6c1350aa-cd5e-470d-850d-085a24b06fd7",
   "metadata": {},
   "outputs": [
    {
     "data": {
      "text/plain": [
       "array([24.28094341, 57.12011429, 28.65938298])"
      ]
     },
     "execution_count": 6,
     "metadata": {},
     "output_type": "execute_result"
    }
   ],
   "source": [
    "initial_results = [\n",
    "    single_run(scenario, random_no_set=rep)[\"01a_triage_wait\"].iloc[0]\n",
    "    for rep in range(3)\n",
    "]\n",
    "\n",
    "np.asarray(initial_results)"
   ]
  },
  {
   "cell_type": "markdown",
   "id": "a95739e5-293a-4838-8131-947cea8735cc",
   "metadata": {},
   "source": [
    "##  Replications Algorithm overview\n",
    "\n",
    "The look ahead component is governed by the formula below. A user specifies a look ahead period called $k_{limit}$. If $n \\leq 100$ then a parameter $k_{limit}$ is used.  Hoad et al.(2010) reco~mmend a value of 5 based on extensive empirical work. If $n \\geq 100$ then a fraction is returned.  The notation $\\lfloor$ and $\\rfloor$ mean that the function must return an integer value (as it represents the number of replications to look ahead).   \n",
    "\n",
    "$f(k_{limit}, n) = \\Biggl \\lfloor \\dfrac{k_{limit}}{100}\\max(n, 100)\\Biggr \\rfloor $\n",
    "\n",
    "In general $f(k_{limit}, n)$ means that as the number of replications increases so does the look ahead period.  For example when you have run 50 replications a $k_{limit} = 5$ means you simulate an extra 5 replications.  When you have run 800 replications a $k_{limit} = 5$ means you simulate an extra $\\Biggl \\lfloor \\dfrac{5}{100} \\times 800\\Biggr \\rfloor = 40$ replications.\n",
    "\n",
    "The paper provides a formal algorithm notation. Here we provide a pictorial representation of the general logic of the replications algorithm.\n",
    "\n",
    "\n",
    "<div>\n",
    "<img src=\"images/replications_algorithm.png\" width=\"1500\"/>\n",
    "</div>\n"
   ]
  },
  {
   "cell_type": "markdown",
   "id": "7805f38d-fad8-4571-a993-e6d88f0d9b1d",
   "metadata": {},
   "source": [
    "## Adapting a simulation model to work with the `ReplicationsAnalyser`\n",
    "\n",
    "`ReplicationsAnalyser` has been designed to work with any Python simulation model. We know that each Python simulation model will have a slightly difference interface i.e. the setup, methods or functions to perform a single replication of the model will vary across models. `ReplicationsAnalyser` therefore makes use of the **Adapter Pattern** from Object Orientated Design principles.  This means we create a \"wrapper\" class around the model with a known fixed **interface**.\n",
    "\n",
    "We formalise Python's **duck typing** feature by providing `Protocol` class called `ReplicationsAlgorithmModelAdapter` that has specifies an inteface method called `single_run`. The protocol is very simple i.e.\n",
    "\n",
    "```python\n",
    "@runtime_checkable\n",
    "class ReplicationsAlgorithmModelAdapter(Protocol):\n",
    "    \"\"\"\n",
    "    Adapter pattern for the \"Replications Algorithm\".\n",
    "\n",
    "    All models that use ReplicationsAlgorithm must provide a\n",
    "    single_run(replication_number) interface.\n",
    "    \"\"\"\n",
    "\n",
    "    def single_run(self, replication_number: int) -> float:\n",
    "        \"\"\"\n",
    "        Perform a unique replication of the model. Return a performance measure\n",
    "        \"\"\"\n",
    "        pass\n",
    "```\n",
    "\n",
    "\n",
    "For a model to use the replication algorithm it must create a concrete adapter class that implements the interface specified. Here we will create a class called  `TreatSimAdapter` that adheres to the `ReplicationsAlgorithmModelAdapter` interface and pass this to the `select` method of a modified `ReplicationsAlgorithm`. "
   ]
  },
  {
   "cell_type": "markdown",
   "id": "a2630013-24fc-4f9e-865c-e90472990ab4",
   "metadata": {},
   "source": [
    "#### Additional imports for typing"
   ]
  },
  {
   "cell_type": "code",
   "execution_count": 7,
   "id": "7da7884e-444e-4ca7-b153-e2a340dceaff",
   "metadata": {},
   "outputs": [],
   "source": [
    "class TreatSimAdapter:\n",
    "    \"\"\"\n",
    "    treat-sim single_run interface adapted for the ReplicationsAlgorithm.\n",
    "    \"\"\"\n",
    "\n",
    "    def __init__(\n",
    "        self,\n",
    "        scenario: Scenario,\n",
    "        metric: str,\n",
    "        single_run_func: Callable,\n",
    "        run_length: Optional[float] = 1140.0,\n",
    "    ):\n",
    "        \"\"\"\n",
    "        Paramerters:\n",
    "        ------------\n",
    "        scenario: Scenario\n",
    "            The experiment and parameter class for treat-sim\n",
    "\n",
    "        metric: str\n",
    "            The metric to output\n",
    "\n",
    "        single_run_func: Callable\n",
    "            The single run function that is being adapted\n",
    "\n",
    "        run_length: float, optional (default = 1140)\n",
    "            The run_length for the model\n",
    "\n",
    "        \"\"\"\n",
    "        self.scenario = scenario\n",
    "        self.metric = metric\n",
    "\n",
    "        # we have passed the treat-sim single_run function as a parameter.\n",
    "        self.single_run_func = single_run_func\n",
    "        self.run_length = run_length\n",
    "\n",
    "    def single_run(self, replication_number: int) -> float:\n",
    "        return self.single_run_func(\n",
    "            self.scenario,\n",
    "            rc_period=self.run_length,\n",
    "            random_no_set=replication_number,\n",
    "        )[self.metric].iloc[0]"
   ]
  },
  {
   "cell_type": "markdown",
   "id": "2c46a4c1",
   "metadata": {},
   "source": [
    "Note that `TreatSimAdapter` **does what is says on the tin**: it adapts the model so that its implements the expected interface. I.e. "
   ]
  },
  {
   "cell_type": "code",
   "execution_count": 8,
   "id": "cdc8cb47-4751-4599-9cf3-f714e9eea433",
   "metadata": {},
   "outputs": [
    {
     "data": {
      "text/plain": [
       "np.float64(57.120114285877285)"
      ]
     },
     "execution_count": 8,
     "metadata": {},
     "output_type": "execute_result"
    }
   ],
   "source": [
    "scenario = Scenario()\n",
    "ts_model = TreatSimAdapter(scenario, \"01a_triage_wait\", single_run)\n",
    "ts_model.single_run(1)"
   ]
  },
  {
   "cell_type": "markdown",
   "id": "c3d3a61b-8dde-4888-8fdf-3a50c38a3d63",
   "metadata": {},
   "source": [
    "We made our Protocol runtime checkable so we can valid the interface of any models passed to the replication analyser"
   ]
  },
  {
   "cell_type": "code",
   "execution_count": 9,
   "id": "e57cbd55-f012-4f51-abeb-b5bd331a4d9b",
   "metadata": {},
   "outputs": [
    {
     "data": {
      "text/plain": [
       "True"
      ]
     },
     "execution_count": 9,
     "metadata": {},
     "output_type": "execute_result"
    }
   ],
   "source": [
    "isinstance(ts_model, ReplicationsAlgorithmModelAdapter)"
   ]
  },
  {
   "cell_type": "markdown",
   "id": "555ff063",
   "metadata": {},
   "source": [
    "## Running the ReplicationsAlgorithm\n",
    "\n",
    "By default the replications algorithm constructs a 95% Confidence Interval around the cumulative mean and uses a target deviation of 0.1\n",
    "\n",
    "\n",
    "```{admonition} Optional parameters for the analyser\n",
    ":class: tip, dropdown\n",
    "* `alpha`: `float`, optional (default = 0.05)\n",
    "    Used to construct the 100(1-alpha) CI\n",
    "    \n",
    "* `half_width_precision`: `float`, optional (default = 0.1)\n",
    "    The target half width precision for the algorithm % deviation of the interval from mean.\n",
    "    \n",
    "* `look_ahead`: `int`, optional (default = 5)\n",
    "    Recommended no. replications to look ahead to assess stability of precision.  When the number of replications n <= 100 the value of look ahead is used. When n > 100 then `look_ahead` / 100 * max(n, 100) is used.\n",
    "    \n",
    "* `replication_budget`: `int`, optional (default = 1000)\n",
    "    A hard limit on the number of replications. Use for larger models where replication runtime is a constraint on the hardware in use.\n",
    "    \n",
    "* `verbose`: `bool`, optional (default=False)\n",
    "    Display replication number as model executes.\n",
    "\n",
    "* `observer`: `ReplicationObserver` | None = None\n",
    "Include an observer object to track how statistics change as the algorithm runs. For example, `ReplicationTabulizer` to return a table equivalent to confidence_interval_method.\n",
    "```"
   ]
  },
  {
   "cell_type": "code",
   "execution_count": 10,
   "id": "ca08317b-b5b2-454a-81ec-6e5b45e55c60",
   "metadata": {},
   "outputs": [
    {
     "data": {
      "text/plain": [
       "145"
      ]
     },
     "execution_count": 10,
     "metadata": {},
     "output_type": "execute_result"
    }
   ],
   "source": [
    "# a default scenario\n",
    "scenario = Scenario()\n",
    "ts_model = TreatSimAdapter(scenario, \"01a_triage_wait\", single_run)\n",
    "\n",
    "analyser = ReplicationsAlgorithm()\n",
    "n_replications = analyser.select(ts_model)\n",
    "n_replications"
   ]
  },
  {
   "cell_type": "markdown",
   "id": "077bf8b2",
   "metadata": {},
   "source": [
    "## Generateing a Confidence Interval Method table\n",
    "\n",
    "If we wanted to track and further analyse the cumulative mean and confidence intervals of the metric analysed we can create a ckass that implements the `ReplicationObserver` interface.\n",
    "\n",
    "```python\n",
    "@runtime_checkable\n",
    "class ReplicationObserver(Protocol):\n",
    "    \"\"\"\n",
    "    Interface for an observer of an instance of the ReplicationsAnalyser\n",
    "    \"\"\"\n",
    "\n",
    "    def update(self, results) -> None:\n",
    "        \"\"\"\n",
    "        Add an observation of a replication\n",
    "\n",
    "        Parameters:\n",
    "        -----------\n",
    "        results: OnlineStatistic\n",
    "            The current replication to observe.\n",
    "        \"\"\"\n",
    "        pass\n",
    "```\n",
    "\n",
    "`sim-tools` provides a `ReplicationTabulizer` class that effectively returns the table used in the Confidence Interval Method as a `pd.DataFrame`."
   ]
  },
  {
   "cell_type": "code",
   "execution_count": 11,
   "id": "4707460b",
   "metadata": {},
   "outputs": [
    {
     "data": {
      "text/html": [
       "<div>\n",
       "<style scoped>\n",
       "    .dataframe tbody tr th:only-of-type {\n",
       "        vertical-align: middle;\n",
       "    }\n",
       "\n",
       "    .dataframe tbody tr th {\n",
       "        vertical-align: top;\n",
       "    }\n",
       "\n",
       "    .dataframe thead th {\n",
       "        text-align: right;\n",
       "    }\n",
       "</style>\n",
       "<table border=\"1\" class=\"dataframe\">\n",
       "  <thead>\n",
       "    <tr style=\"text-align: right;\">\n",
       "      <th></th>\n",
       "      <th>Mean</th>\n",
       "      <th>Cumulative Mean</th>\n",
       "      <th>Standard Deviation</th>\n",
       "      <th>Lower Interval</th>\n",
       "      <th>Upper Interval</th>\n",
       "      <th>% deviation</th>\n",
       "    </tr>\n",
       "    <tr>\n",
       "      <th>replications</th>\n",
       "      <th></th>\n",
       "      <th></th>\n",
       "      <th></th>\n",
       "      <th></th>\n",
       "      <th></th>\n",
       "      <th></th>\n",
       "    </tr>\n",
       "  </thead>\n",
       "  <tbody>\n",
       "    <tr>\n",
       "      <th>1</th>\n",
       "      <td>24.28</td>\n",
       "      <td>24.28</td>\n",
       "      <td>NaN</td>\n",
       "      <td>NaN</td>\n",
       "      <td>NaN</td>\n",
       "      <td>NaN</td>\n",
       "    </tr>\n",
       "    <tr>\n",
       "      <th>2</th>\n",
       "      <td>57.12</td>\n",
       "      <td>40.70</td>\n",
       "      <td>NaN</td>\n",
       "      <td>NaN</td>\n",
       "      <td>NaN</td>\n",
       "      <td>NaN</td>\n",
       "    </tr>\n",
       "    <tr>\n",
       "      <th>3</th>\n",
       "      <td>28.66</td>\n",
       "      <td>36.69</td>\n",
       "      <td>17.83</td>\n",
       "      <td>-7.61</td>\n",
       "      <td>80.98</td>\n",
       "      <td>1.21</td>\n",
       "    </tr>\n",
       "    <tr>\n",
       "      <th>4</th>\n",
       "      <td>24.80</td>\n",
       "      <td>33.72</td>\n",
       "      <td>15.72</td>\n",
       "      <td>8.69</td>\n",
       "      <td>58.74</td>\n",
       "      <td>0.74</td>\n",
       "    </tr>\n",
       "    <tr>\n",
       "      <th>5</th>\n",
       "      <td>17.68</td>\n",
       "      <td>30.51</td>\n",
       "      <td>15.39</td>\n",
       "      <td>11.40</td>\n",
       "      <td>49.62</td>\n",
       "      <td>0.63</td>\n",
       "    </tr>\n",
       "  </tbody>\n",
       "</table>\n",
       "</div>"
      ],
      "text/plain": [
       "               Mean  Cumulative Mean  Standard Deviation  Lower Interval  \\\n",
       "replications                                                               \n",
       "1             24.28            24.28                 NaN             NaN   \n",
       "2             57.12            40.70                 NaN             NaN   \n",
       "3             28.66            36.69               17.83           -7.61   \n",
       "4             24.80            33.72               15.72            8.69   \n",
       "5             17.68            30.51               15.39           11.40   \n",
       "\n",
       "              Upper Interval  % deviation  \n",
       "replications                               \n",
       "1                        NaN          NaN  \n",
       "2                        NaN          NaN  \n",
       "3                      80.98         1.21  \n",
       "4                      58.74         0.74  \n",
       "5                      49.62         0.63  "
      ]
     },
     "execution_count": 11,
     "metadata": {},
     "output_type": "execute_result"
    }
   ],
   "source": [
    "scenario = Scenario()\n",
    "ts_model = TreatSimAdapter(scenario, \"01a_triage_wait\", single_run)\n",
    "\n",
    "observer = ReplicationTabulizer()\n",
    "analyser = ReplicationsAlgorithm(observer=observer)\n",
    "n_replications = analyser.select(ts_model)\n",
    "\n",
    "observer.summary_table().head().round(2)"
   ]
  }
 ],
 "metadata": {
  "kernelspec": {
   "display_name": "sim_tools",
   "language": "python",
   "name": "python3"
  },
  "language_info": {
   "codemirror_mode": {
    "name": "ipython",
    "version": 3
   },
   "file_extension": ".py",
   "mimetype": "text/x-python",
   "name": "python",
   "nbconvert_exporter": "python",
   "pygments_lexer": "ipython3",
   "version": "3.11.11"
  }
 },
 "nbformat": 4,
 "nbformat_minor": 5
}
