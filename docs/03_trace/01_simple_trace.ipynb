{
 "cells": [
  {
   "cell_type": "markdown",
   "metadata": {},
   "source": [
    "# A simple trace\n",
    "\n",
    "The `trace` module offers the function `trace` for small models. It provides easy to use functionality with defaults.\n",
    "\n",
    "## 1. imports"
   ]
  },
  {
   "cell_type": "code",
   "execution_count": 1,
   "metadata": {},
   "outputs": [],
   "source": [
    "import itertools\n",
    "from typing import Optional\n",
    "\n",
    "import simpy\n",
    "from sim_tools.trace import trace\n",
    "from sim_tools.distributions import Exponential"
   ]
  },
  {
   "cell_type": "markdown",
   "metadata": {},
   "source": [
    "## 2. A trace using default colouring\n",
    "\n",
    "In this first example we simulate patient arrivals to a treatment facility.  Arrivals are at random with a mean inter-arrival time of 5 minutes.\n",
    "Rather than using python's print command we instead make use of `trace`. We pass the following arguments:\n",
    "\n",
    "1. `time`: the current simulation time\n",
    "2. `debug`: if we toggle to `False` this hides the trace or `True` to show (default = False)\n",
    "3. `msg`: the string message to display. This can include emoji \n",
    "4. `process_id`: an optional string to identify the process. Ideally this should be unique to aid debugging."
   ]
  },
  {
   "cell_type": "code",
   "execution_count": 2,
   "metadata": {},
   "outputs": [],
   "source": [
    "def patient_generator(env: simpy.Environment, dist: Exponential, debug: Optional[bool]=False):\n",
    "    \"\"\"Generate patient arrivals to the treatment clinic\"\"\"\n",
    "    for patient_count in itertools.count(1):\n",
    "        # sample inter-arrival time\n",
    "        iat = dist.sample()\n",
    "        yield env.timeout(iat)\n",
    "        trace(time=env.now, debug=debug, msg=\"new arrival 🤒\", identifier=patient_count)\n"
   ]
  },
  {
   "cell_type": "code",
   "execution_count": 3,
   "metadata": {},
   "outputs": [
    {
     "data": {
      "text/html": [
       "<pre style=\"white-space:pre;overflow-x:auto;line-height:normal;font-family:Menlo,'DejaVu Sans Mono',consolas,'Courier New',monospace\"><span style=\"color: #000080; text-decoration-color: #000080; font-weight: bold\">[</span><span style=\"color: #000080; text-decoration-color: #000080; font-weight: bold\">12.02</span><span style=\"color: #000080; text-decoration-color: #000080; font-weight: bold\">]:&lt;event </span><span style=\"color: #000080; text-decoration-color: #000080; font-weight: bold\">1</span><span style=\"color: #000080; text-decoration-color: #000080; font-weight: bold\">&gt;: </span><span style=\"color: #000000; text-decoration-color: #000000\">new arrival 🤒</span>\n",
       "</pre>\n"
      ],
      "text/plain": [
       "\u001b[1;34m[\u001b[0m\u001b[1;34m12.02\u001b[0m\u001b[1;34m]\u001b[0m\u001b[1;34m:\u001b[0m\u001b[1;34m<\u001b[0m\u001b[1;34mevent\u001b[0m\u001b[1;34m \u001b[0m\u001b[1;34m1\u001b[0m\u001b[1;34m>\u001b[0m\u001b[1;34m: \u001b[0m\u001b[30mnew arrival 🤒\u001b[0m\n"
      ]
     },
     "metadata": {},
     "output_type": "display_data"
    },
    {
     "data": {
      "text/html": [
       "<pre style=\"white-space:pre;overflow-x:auto;line-height:normal;font-family:Menlo,'DejaVu Sans Mono',consolas,'Courier New',monospace\"><span style=\"color: #000080; text-decoration-color: #000080; font-weight: bold\">[</span><span style=\"color: #000080; text-decoration-color: #000080; font-weight: bold\">23.70</span><span style=\"color: #000080; text-decoration-color: #000080; font-weight: bold\">]:&lt;event </span><span style=\"color: #000080; text-decoration-color: #000080; font-weight: bold\">2</span><span style=\"color: #000080; text-decoration-color: #000080; font-weight: bold\">&gt;: </span><span style=\"color: #000000; text-decoration-color: #000000\">new arrival 🤒</span>\n",
       "</pre>\n"
      ],
      "text/plain": [
       "\u001b[1;34m[\u001b[0m\u001b[1;34m23.70\u001b[0m\u001b[1;34m]\u001b[0m\u001b[1;34m:\u001b[0m\u001b[1;34m<\u001b[0m\u001b[1;34mevent\u001b[0m\u001b[1;34m \u001b[0m\u001b[1;34m2\u001b[0m\u001b[1;34m>\u001b[0m\u001b[1;34m: \u001b[0m\u001b[30mnew arrival 🤒\u001b[0m\n"
      ]
     },
     "metadata": {},
     "output_type": "display_data"
    },
    {
     "data": {
      "text/html": [
       "<pre style=\"white-space:pre;overflow-x:auto;line-height:normal;font-family:Menlo,'DejaVu Sans Mono',consolas,'Courier New',monospace\"><span style=\"color: #000080; text-decoration-color: #000080; font-weight: bold\">[</span><span style=\"color: #000080; text-decoration-color: #000080; font-weight: bold\">35.63</span><span style=\"color: #000080; text-decoration-color: #000080; font-weight: bold\">]:&lt;event </span><span style=\"color: #000080; text-decoration-color: #000080; font-weight: bold\">3</span><span style=\"color: #000080; text-decoration-color: #000080; font-weight: bold\">&gt;: </span><span style=\"color: #000000; text-decoration-color: #000000\">new arrival 🤒</span>\n",
       "</pre>\n"
      ],
      "text/plain": [
       "\u001b[1;34m[\u001b[0m\u001b[1;34m35.63\u001b[0m\u001b[1;34m]\u001b[0m\u001b[1;34m:\u001b[0m\u001b[1;34m<\u001b[0m\u001b[1;34mevent\u001b[0m\u001b[1;34m \u001b[0m\u001b[1;34m3\u001b[0m\u001b[1;34m>\u001b[0m\u001b[1;34m: \u001b[0m\u001b[30mnew arrival 🤒\u001b[0m\n"
      ]
     },
     "metadata": {},
     "output_type": "display_data"
    },
    {
     "data": {
      "text/html": [
       "<pre style=\"white-space:pre;overflow-x:auto;line-height:normal;font-family:Menlo,'DejaVu Sans Mono',consolas,'Courier New',monospace\"><span style=\"color: #000080; text-decoration-color: #000080; font-weight: bold\">[</span><span style=\"color: #000080; text-decoration-color: #000080; font-weight: bold\">37.02</span><span style=\"color: #000080; text-decoration-color: #000080; font-weight: bold\">]:&lt;event </span><span style=\"color: #000080; text-decoration-color: #000080; font-weight: bold\">4</span><span style=\"color: #000080; text-decoration-color: #000080; font-weight: bold\">&gt;: </span><span style=\"color: #000000; text-decoration-color: #000000\">new arrival 🤒</span>\n",
       "</pre>\n"
      ],
      "text/plain": [
       "\u001b[1;34m[\u001b[0m\u001b[1;34m37.02\u001b[0m\u001b[1;34m]\u001b[0m\u001b[1;34m:\u001b[0m\u001b[1;34m<\u001b[0m\u001b[1;34mevent\u001b[0m\u001b[1;34m \u001b[0m\u001b[1;34m4\u001b[0m\u001b[1;34m>\u001b[0m\u001b[1;34m: \u001b[0m\u001b[30mnew arrival 🤒\u001b[0m\n"
      ]
     },
     "metadata": {},
     "output_type": "display_data"
    },
    {
     "data": {
      "text/html": [
       "<pre style=\"white-space:pre;overflow-x:auto;line-height:normal;font-family:Menlo,'DejaVu Sans Mono',consolas,'Courier New',monospace\"><span style=\"color: #000080; text-decoration-color: #000080; font-weight: bold\">[</span><span style=\"color: #000080; text-decoration-color: #000080; font-weight: bold\">37.46</span><span style=\"color: #000080; text-decoration-color: #000080; font-weight: bold\">]:&lt;event </span><span style=\"color: #000080; text-decoration-color: #000080; font-weight: bold\">5</span><span style=\"color: #000080; text-decoration-color: #000080; font-weight: bold\">&gt;: </span><span style=\"color: #000000; text-decoration-color: #000000\">new arrival 🤒</span>\n",
       "</pre>\n"
      ],
      "text/plain": [
       "\u001b[1;34m[\u001b[0m\u001b[1;34m37.46\u001b[0m\u001b[1;34m]\u001b[0m\u001b[1;34m:\u001b[0m\u001b[1;34m<\u001b[0m\u001b[1;34mevent\u001b[0m\u001b[1;34m \u001b[0m\u001b[1;34m5\u001b[0m\u001b[1;34m>\u001b[0m\u001b[1;34m: \u001b[0m\u001b[30mnew arrival 🤒\u001b[0m\n"
      ]
     },
     "metadata": {},
     "output_type": "display_data"
    },
    {
     "data": {
      "text/html": [
       "<pre style=\"white-space:pre;overflow-x:auto;line-height:normal;font-family:Menlo,'DejaVu Sans Mono',consolas,'Courier New',monospace\"><span style=\"color: #000080; text-decoration-color: #000080; font-weight: bold\">[</span><span style=\"color: #000080; text-decoration-color: #000080; font-weight: bold\">44.72</span><span style=\"color: #000080; text-decoration-color: #000080; font-weight: bold\">]:&lt;event </span><span style=\"color: #000080; text-decoration-color: #000080; font-weight: bold\">6</span><span style=\"color: #000080; text-decoration-color: #000080; font-weight: bold\">&gt;: </span><span style=\"color: #000000; text-decoration-color: #000000\">new arrival 🤒</span>\n",
       "</pre>\n"
      ],
      "text/plain": [
       "\u001b[1;34m[\u001b[0m\u001b[1;34m44.72\u001b[0m\u001b[1;34m]\u001b[0m\u001b[1;34m:\u001b[0m\u001b[1;34m<\u001b[0m\u001b[1;34mevent\u001b[0m\u001b[1;34m \u001b[0m\u001b[1;34m6\u001b[0m\u001b[1;34m>\u001b[0m\u001b[1;34m: \u001b[0m\u001b[30mnew arrival 🤒\u001b[0m\n"
      ]
     },
     "metadata": {},
     "output_type": "display_data"
    }
   ],
   "source": [
    "# script to run model\n",
    "DEBUG = True\n",
    "SEED = 42\n",
    "arrival_dist = Exponential(5.0, random_seed=SEED)\n",
    "env = simpy.Environment()\n",
    "env.process(patient_generator(env, arrival_dist, DEBUG))\n",
    "env.run(50.0)"
   ]
  },
  {
   "cell_type": "markdown",
   "metadata": {},
   "source": [
    "## 3. Configure colouring of output\n",
    "\n",
    "\n",
    "In `trace` the `config` parameter is a user settable dictionary object. It can be used to change the colour of text in the trace.  We will first show a simple demonstration of setting options. and then use to illustrate how it is useful in practice.\n",
    "\n",
    "The default`config` is\n",
    "\n",
    "```python\n",
    "config = {\n",
    "    \"class\":None, \n",
    "    \"class_colour\":\"bold blue\", \n",
    "    \"time_colour\":'bold blue', \n",
    "    \"time_dp\":2,\n",
    "    \"message_colour\":'black',\n",
    "    \"tracked\":None\n",
    "}\n",
    "```\n",
    "\n",
    "* `class`: a string representing the class or type of trace event occuring.  This could be a process type for example, \"patient\", \"stroke patient\" or \"arrival\" or \"treatment\".\n",
    "* `class_colour`: choose a colour to display the class name e.g. \"green\" or \"bold green\"\n",
    "* `time_colour`: choose a colour to display the time\n",
    "* `time_dp`: choose the number of decimal places for time (default=2)\n",
    "* `message_color`: colour of the message text\n",
    "* `tracked`: a list containing identifiers (e.g. `[1, 2, 25]`) that limits what is tracked.  Works with `identiifier` parameters of `trace`\n",
    "\n",
    "> Note: you do not need to set all of the parameters.  Just set what you need and the defaults will be used for other parameters."
   ]
  },
  {
   "cell_type": "code",
   "execution_count": 4,
   "metadata": {},
   "outputs": [],
   "source": [
    "def get_config():\n",
    "    \"\"\"Returns a custom trace configuration\"\"\"\n",
    "    config = {\n",
    "        \"class\":\"Patient\", \n",
    "        \"class_colour\":\"green\", \n",
    "        \"time_colour\":'bold black',\n",
    "        \"message_colour\":\"red\"\n",
    "    }\n",
    "    return config\n",
    "\n",
    "\n",
    "def patient_generator(env: simpy.Environment, dist: Exponential, debug: Optional[bool]=False):\n",
    "    \"\"\"Generate patient arrivals to the treatment clinic\"\"\"\n",
    "    for patient_count in itertools.count(1):\n",
    "        # sample inter-arrival time\n",
    "        iat = dist.sample()\n",
    "        yield env.timeout(iat)\n",
    "        trace(time=env.now, \n",
    "              debug=debug, \n",
    "              msg=\"new arrival 🤒\", \n",
    "              identifier=patient_count,\n",
    "              config=get_config())"
   ]
  },
  {
   "cell_type": "code",
   "execution_count": 5,
   "metadata": {},
   "outputs": [
    {
     "data": {
      "text/html": [
       "<pre style=\"white-space:pre;overflow-x:auto;line-height:normal;font-family:Menlo,'DejaVu Sans Mono',consolas,'Courier New',monospace\"><span style=\"color: #000000; text-decoration-color: #000000; font-weight: bold\">[</span><span style=\"color: #000000; text-decoration-color: #000000; font-weight: bold\">12.02</span><span style=\"color: #000000; text-decoration-color: #000000; font-weight: bold\">]:</span><span style=\"color: #008000; text-decoration-color: #008000; font-weight: bold\">&lt;Patient</span><span style=\"color: #008000; text-decoration-color: #008000\"> </span><span style=\"color: #008000; text-decoration-color: #008000; font-weight: bold\">1</span><span style=\"color: #008000; text-decoration-color: #008000; font-weight: bold\">&gt;</span><span style=\"color: #008000; text-decoration-color: #008000\">: </span><span style=\"color: #800000; text-decoration-color: #800000\">new arrival 🤒</span>\n",
       "</pre>\n"
      ],
      "text/plain": [
       "\u001b[1;30m[\u001b[0m\u001b[1;30m12.02\u001b[0m\u001b[1;30m]\u001b[0m\u001b[1;30m:\u001b[0m\u001b[1;32m<\u001b[0m\u001b[1;32mPatient\u001b[0m\u001b[32m \u001b[0m\u001b[1;32m1\u001b[0m\u001b[1;32m>\u001b[0m\u001b[32m: \u001b[0m\u001b[31mnew arrival 🤒\u001b[0m\n"
      ]
     },
     "metadata": {},
     "output_type": "display_data"
    },
    {
     "data": {
      "text/html": [
       "<pre style=\"white-space:pre;overflow-x:auto;line-height:normal;font-family:Menlo,'DejaVu Sans Mono',consolas,'Courier New',monospace\"><span style=\"color: #000000; text-decoration-color: #000000; font-weight: bold\">[</span><span style=\"color: #000000; text-decoration-color: #000000; font-weight: bold\">23.70</span><span style=\"color: #000000; text-decoration-color: #000000; font-weight: bold\">]:</span><span style=\"color: #008000; text-decoration-color: #008000; font-weight: bold\">&lt;Patient</span><span style=\"color: #008000; text-decoration-color: #008000\"> </span><span style=\"color: #008000; text-decoration-color: #008000; font-weight: bold\">2</span><span style=\"color: #008000; text-decoration-color: #008000; font-weight: bold\">&gt;</span><span style=\"color: #008000; text-decoration-color: #008000\">: </span><span style=\"color: #800000; text-decoration-color: #800000\">new arrival 🤒</span>\n",
       "</pre>\n"
      ],
      "text/plain": [
       "\u001b[1;30m[\u001b[0m\u001b[1;30m23.70\u001b[0m\u001b[1;30m]\u001b[0m\u001b[1;30m:\u001b[0m\u001b[1;32m<\u001b[0m\u001b[1;32mPatient\u001b[0m\u001b[32m \u001b[0m\u001b[1;32m2\u001b[0m\u001b[1;32m>\u001b[0m\u001b[32m: \u001b[0m\u001b[31mnew arrival 🤒\u001b[0m\n"
      ]
     },
     "metadata": {},
     "output_type": "display_data"
    },
    {
     "data": {
      "text/html": [
       "<pre style=\"white-space:pre;overflow-x:auto;line-height:normal;font-family:Menlo,'DejaVu Sans Mono',consolas,'Courier New',monospace\"><span style=\"color: #000000; text-decoration-color: #000000; font-weight: bold\">[</span><span style=\"color: #000000; text-decoration-color: #000000; font-weight: bold\">35.63</span><span style=\"color: #000000; text-decoration-color: #000000; font-weight: bold\">]:</span><span style=\"color: #008000; text-decoration-color: #008000; font-weight: bold\">&lt;Patient</span><span style=\"color: #008000; text-decoration-color: #008000\"> </span><span style=\"color: #008000; text-decoration-color: #008000; font-weight: bold\">3</span><span style=\"color: #008000; text-decoration-color: #008000; font-weight: bold\">&gt;</span><span style=\"color: #008000; text-decoration-color: #008000\">: </span><span style=\"color: #800000; text-decoration-color: #800000\">new arrival 🤒</span>\n",
       "</pre>\n"
      ],
      "text/plain": [
       "\u001b[1;30m[\u001b[0m\u001b[1;30m35.63\u001b[0m\u001b[1;30m]\u001b[0m\u001b[1;30m:\u001b[0m\u001b[1;32m<\u001b[0m\u001b[1;32mPatient\u001b[0m\u001b[32m \u001b[0m\u001b[1;32m3\u001b[0m\u001b[1;32m>\u001b[0m\u001b[32m: \u001b[0m\u001b[31mnew arrival 🤒\u001b[0m\n"
      ]
     },
     "metadata": {},
     "output_type": "display_data"
    },
    {
     "data": {
      "text/html": [
       "<pre style=\"white-space:pre;overflow-x:auto;line-height:normal;font-family:Menlo,'DejaVu Sans Mono',consolas,'Courier New',monospace\"><span style=\"color: #000000; text-decoration-color: #000000; font-weight: bold\">[</span><span style=\"color: #000000; text-decoration-color: #000000; font-weight: bold\">37.02</span><span style=\"color: #000000; text-decoration-color: #000000; font-weight: bold\">]:</span><span style=\"color: #008000; text-decoration-color: #008000; font-weight: bold\">&lt;Patient</span><span style=\"color: #008000; text-decoration-color: #008000\"> </span><span style=\"color: #008000; text-decoration-color: #008000; font-weight: bold\">4</span><span style=\"color: #008000; text-decoration-color: #008000; font-weight: bold\">&gt;</span><span style=\"color: #008000; text-decoration-color: #008000\">: </span><span style=\"color: #800000; text-decoration-color: #800000\">new arrival 🤒</span>\n",
       "</pre>\n"
      ],
      "text/plain": [
       "\u001b[1;30m[\u001b[0m\u001b[1;30m37.02\u001b[0m\u001b[1;30m]\u001b[0m\u001b[1;30m:\u001b[0m\u001b[1;32m<\u001b[0m\u001b[1;32mPatient\u001b[0m\u001b[32m \u001b[0m\u001b[1;32m4\u001b[0m\u001b[1;32m>\u001b[0m\u001b[32m: \u001b[0m\u001b[31mnew arrival 🤒\u001b[0m\n"
      ]
     },
     "metadata": {},
     "output_type": "display_data"
    },
    {
     "data": {
      "text/html": [
       "<pre style=\"white-space:pre;overflow-x:auto;line-height:normal;font-family:Menlo,'DejaVu Sans Mono',consolas,'Courier New',monospace\"><span style=\"color: #000000; text-decoration-color: #000000; font-weight: bold\">[</span><span style=\"color: #000000; text-decoration-color: #000000; font-weight: bold\">37.46</span><span style=\"color: #000000; text-decoration-color: #000000; font-weight: bold\">]:</span><span style=\"color: #008000; text-decoration-color: #008000; font-weight: bold\">&lt;Patient</span><span style=\"color: #008000; text-decoration-color: #008000\"> </span><span style=\"color: #008000; text-decoration-color: #008000; font-weight: bold\">5</span><span style=\"color: #008000; text-decoration-color: #008000; font-weight: bold\">&gt;</span><span style=\"color: #008000; text-decoration-color: #008000\">: </span><span style=\"color: #800000; text-decoration-color: #800000\">new arrival 🤒</span>\n",
       "</pre>\n"
      ],
      "text/plain": [
       "\u001b[1;30m[\u001b[0m\u001b[1;30m37.46\u001b[0m\u001b[1;30m]\u001b[0m\u001b[1;30m:\u001b[0m\u001b[1;32m<\u001b[0m\u001b[1;32mPatient\u001b[0m\u001b[32m \u001b[0m\u001b[1;32m5\u001b[0m\u001b[1;32m>\u001b[0m\u001b[32m: \u001b[0m\u001b[31mnew arrival 🤒\u001b[0m\n"
      ]
     },
     "metadata": {},
     "output_type": "display_data"
    },
    {
     "data": {
      "text/html": [
       "<pre style=\"white-space:pre;overflow-x:auto;line-height:normal;font-family:Menlo,'DejaVu Sans Mono',consolas,'Courier New',monospace\"><span style=\"color: #000000; text-decoration-color: #000000; font-weight: bold\">[</span><span style=\"color: #000000; text-decoration-color: #000000; font-weight: bold\">44.72</span><span style=\"color: #000000; text-decoration-color: #000000; font-weight: bold\">]:</span><span style=\"color: #008000; text-decoration-color: #008000; font-weight: bold\">&lt;Patient</span><span style=\"color: #008000; text-decoration-color: #008000\"> </span><span style=\"color: #008000; text-decoration-color: #008000; font-weight: bold\">6</span><span style=\"color: #008000; text-decoration-color: #008000; font-weight: bold\">&gt;</span><span style=\"color: #008000; text-decoration-color: #008000\">: </span><span style=\"color: #800000; text-decoration-color: #800000\">new arrival 🤒</span>\n",
       "</pre>\n"
      ],
      "text/plain": [
       "\u001b[1;30m[\u001b[0m\u001b[1;30m44.72\u001b[0m\u001b[1;30m]\u001b[0m\u001b[1;30m:\u001b[0m\u001b[1;32m<\u001b[0m\u001b[1;32mPatient\u001b[0m\u001b[32m \u001b[0m\u001b[1;32m6\u001b[0m\u001b[1;32m>\u001b[0m\u001b[32m: \u001b[0m\u001b[31mnew arrival 🤒\u001b[0m\n"
      ]
     },
     "metadata": {},
     "output_type": "display_data"
    }
   ],
   "source": [
    "# script to run model\n",
    "DEBUG = True\n",
    "SEED = 42\n",
    "arrival_dist = Exponential(5.0, random_seed=SEED)\n",
    "env = simpy.Environment()\n",
    "env.process(patient_generator(env, arrival_dist, DEBUG))\n",
    "env.run(50.0)"
   ]
  },
  {
   "cell_type": "code",
   "execution_count": null,
   "metadata": {},
   "outputs": [],
   "source": []
  }
 ],
 "metadata": {
  "kernelspec": {
   "display_name": "Python 3",
   "language": "python",
   "name": "python3"
  },
  "language_info": {
   "codemirror_mode": {
    "name": "ipython",
    "version": 3
   },
   "file_extension": ".py",
   "mimetype": "text/x-python",
   "name": "python",
   "nbconvert_exporter": "python",
   "pygments_lexer": "ipython3",
   "version": "3.11.6"
  }
 },
 "nbformat": 4,
 "nbformat_minor": 2
}
