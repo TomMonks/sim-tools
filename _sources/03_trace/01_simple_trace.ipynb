{
 "cells": [
  {
   "cell_type": "markdown",
   "metadata": {},
   "source": [
    "# A simple trace\n",
    "\n",
    "For debugging code based models such as those using `simpy` it is sometimes useful to do informal debugging by printing events as the simulation executes.  Python's built in `print` function can be used. Alternatively `sim-tools.trace` can be used.\n",
    "\n",
    "For small models the `trace` module offers the function `trace()`. It provides easy to use functionality with defaults.\n",
    "\n",
    "This notebooks illustrates simple tracing of simulation using some small models.\n",
    "\n",
    "## 1. imports"
   ]
  },
  {
   "cell_type": "code",
   "execution_count": 1,
   "metadata": {},
   "outputs": [],
   "source": [
    "import itertools\n",
    "from typing import Optional\n",
    "\n",
    "import simpy\n",
    "from sim_tools.trace import trace\n",
    "from sim_tools.distributions import Exponential"
   ]
  },
  {
   "cell_type": "markdown",
   "metadata": {},
   "source": [
    "## 2. A trace using default colouring\n",
    "\n",
    "In this first example we simulate patient arrivals to a treatment facility.  Arrivals are at random with a mean inter-arrival time of 5 minutes.\n",
    "Rather than using python's print command we instead make use of `trace`. We pass the following arguments:\n",
    "\n",
    "1. `time`: the current simulation time\n",
    "2. `debug`: if we toggle to `False` this hides the trace or `True` to show (default = False)\n",
    "3. `msg`: the string message to display. This can include emoji \n",
    "4. `process_id`: an optional string to identify the process. Ideally this should be unique to aid debugging."
   ]
  },
  {
   "cell_type": "code",
   "execution_count": 2,
   "metadata": {},
   "outputs": [],
   "source": [
    "def patient_generator(\n",
    "    env: simpy.Environment, dist: Exponential, debug: Optional[bool] = False\n",
    "):\n",
    "    \"\"\"Generate patient arrivals to the treatment clinic\"\"\"\n",
    "    for patient_count in itertools.count(1):\n",
    "        # sample inter-arrival time\n",
    "        iat = dist.sample()\n",
    "        yield env.timeout(iat)\n",
    "        trace(time=env.now, debug=debug, msg=\"new arrival 🤒\", identifier=patient_count)"
   ]
  },
  {
   "cell_type": "code",
   "execution_count": 3,
   "metadata": {},
   "outputs": [
    {
     "data": {
      "text/html": [
       "<pre style=\"white-space:pre;overflow-x:auto;line-height:normal;font-family:Menlo,'DejaVu Sans Mono',consolas,'Courier New',monospace\"><span style=\"color: #000080; text-decoration-color: #000080; font-weight: bold\">[</span><span style=\"color: #000080; text-decoration-color: #000080; font-weight: bold\">12.02</span><span style=\"color: #000080; text-decoration-color: #000080; font-weight: bold\">]:&lt;event </span><span style=\"color: #000080; text-decoration-color: #000080; font-weight: bold\">1</span><span style=\"color: #000080; text-decoration-color: #000080; font-weight: bold\">&gt;: </span><span style=\"color: #000000; text-decoration-color: #000000\">new arrival 🤒</span>\n",
       "</pre>\n"
      ],
      "text/plain": [
       "\u001b[1;34m[\u001b[0m\u001b[1;34m12.02\u001b[0m\u001b[1;34m]\u001b[0m\u001b[1;34m:\u001b[0m\u001b[1;34m<\u001b[0m\u001b[1;34mevent\u001b[0m\u001b[1;34m \u001b[0m\u001b[1;34m1\u001b[0m\u001b[1;34m>\u001b[0m\u001b[1;34m: \u001b[0m\u001b[30mnew arrival 🤒\u001b[0m\n"
      ]
     },
     "metadata": {},
     "output_type": "display_data"
    },
    {
     "data": {
      "text/html": [
       "<pre style=\"white-space:pre;overflow-x:auto;line-height:normal;font-family:Menlo,'DejaVu Sans Mono',consolas,'Courier New',monospace\"><span style=\"color: #000080; text-decoration-color: #000080; font-weight: bold\">[</span><span style=\"color: #000080; text-decoration-color: #000080; font-weight: bold\">23.70</span><span style=\"color: #000080; text-decoration-color: #000080; font-weight: bold\">]:&lt;event </span><span style=\"color: #000080; text-decoration-color: #000080; font-weight: bold\">2</span><span style=\"color: #000080; text-decoration-color: #000080; font-weight: bold\">&gt;: </span><span style=\"color: #000000; text-decoration-color: #000000\">new arrival 🤒</span>\n",
       "</pre>\n"
      ],
      "text/plain": [
       "\u001b[1;34m[\u001b[0m\u001b[1;34m23.70\u001b[0m\u001b[1;34m]\u001b[0m\u001b[1;34m:\u001b[0m\u001b[1;34m<\u001b[0m\u001b[1;34mevent\u001b[0m\u001b[1;34m \u001b[0m\u001b[1;34m2\u001b[0m\u001b[1;34m>\u001b[0m\u001b[1;34m: \u001b[0m\u001b[30mnew arrival 🤒\u001b[0m\n"
      ]
     },
     "metadata": {},
     "output_type": "display_data"
    },
    {
     "data": {
      "text/html": [
       "<pre style=\"white-space:pre;overflow-x:auto;line-height:normal;font-family:Menlo,'DejaVu Sans Mono',consolas,'Courier New',monospace\"><span style=\"color: #000080; text-decoration-color: #000080; font-weight: bold\">[</span><span style=\"color: #000080; text-decoration-color: #000080; font-weight: bold\">35.63</span><span style=\"color: #000080; text-decoration-color: #000080; font-weight: bold\">]:&lt;event </span><span style=\"color: #000080; text-decoration-color: #000080; font-weight: bold\">3</span><span style=\"color: #000080; text-decoration-color: #000080; font-weight: bold\">&gt;: </span><span style=\"color: #000000; text-decoration-color: #000000\">new arrival 🤒</span>\n",
       "</pre>\n"
      ],
      "text/plain": [
       "\u001b[1;34m[\u001b[0m\u001b[1;34m35.63\u001b[0m\u001b[1;34m]\u001b[0m\u001b[1;34m:\u001b[0m\u001b[1;34m<\u001b[0m\u001b[1;34mevent\u001b[0m\u001b[1;34m \u001b[0m\u001b[1;34m3\u001b[0m\u001b[1;34m>\u001b[0m\u001b[1;34m: \u001b[0m\u001b[30mnew arrival 🤒\u001b[0m\n"
      ]
     },
     "metadata": {},
     "output_type": "display_data"
    },
    {
     "data": {
      "text/html": [
       "<pre style=\"white-space:pre;overflow-x:auto;line-height:normal;font-family:Menlo,'DejaVu Sans Mono',consolas,'Courier New',monospace\"><span style=\"color: #000080; text-decoration-color: #000080; font-weight: bold\">[</span><span style=\"color: #000080; text-decoration-color: #000080; font-weight: bold\">37.02</span><span style=\"color: #000080; text-decoration-color: #000080; font-weight: bold\">]:&lt;event </span><span style=\"color: #000080; text-decoration-color: #000080; font-weight: bold\">4</span><span style=\"color: #000080; text-decoration-color: #000080; font-weight: bold\">&gt;: </span><span style=\"color: #000000; text-decoration-color: #000000\">new arrival 🤒</span>\n",
       "</pre>\n"
      ],
      "text/plain": [
       "\u001b[1;34m[\u001b[0m\u001b[1;34m37.02\u001b[0m\u001b[1;34m]\u001b[0m\u001b[1;34m:\u001b[0m\u001b[1;34m<\u001b[0m\u001b[1;34mevent\u001b[0m\u001b[1;34m \u001b[0m\u001b[1;34m4\u001b[0m\u001b[1;34m>\u001b[0m\u001b[1;34m: \u001b[0m\u001b[30mnew arrival 🤒\u001b[0m\n"
      ]
     },
     "metadata": {},
     "output_type": "display_data"
    },
    {
     "data": {
      "text/html": [
       "<pre style=\"white-space:pre;overflow-x:auto;line-height:normal;font-family:Menlo,'DejaVu Sans Mono',consolas,'Courier New',monospace\"><span style=\"color: #000080; text-decoration-color: #000080; font-weight: bold\">[</span><span style=\"color: #000080; text-decoration-color: #000080; font-weight: bold\">37.46</span><span style=\"color: #000080; text-decoration-color: #000080; font-weight: bold\">]:&lt;event </span><span style=\"color: #000080; text-decoration-color: #000080; font-weight: bold\">5</span><span style=\"color: #000080; text-decoration-color: #000080; font-weight: bold\">&gt;: </span><span style=\"color: #000000; text-decoration-color: #000000\">new arrival 🤒</span>\n",
       "</pre>\n"
      ],
      "text/plain": [
       "\u001b[1;34m[\u001b[0m\u001b[1;34m37.46\u001b[0m\u001b[1;34m]\u001b[0m\u001b[1;34m:\u001b[0m\u001b[1;34m<\u001b[0m\u001b[1;34mevent\u001b[0m\u001b[1;34m \u001b[0m\u001b[1;34m5\u001b[0m\u001b[1;34m>\u001b[0m\u001b[1;34m: \u001b[0m\u001b[30mnew arrival 🤒\u001b[0m\n"
      ]
     },
     "metadata": {},
     "output_type": "display_data"
    },
    {
     "data": {
      "text/html": [
       "<pre style=\"white-space:pre;overflow-x:auto;line-height:normal;font-family:Menlo,'DejaVu Sans Mono',consolas,'Courier New',monospace\"><span style=\"color: #000080; text-decoration-color: #000080; font-weight: bold\">[</span><span style=\"color: #000080; text-decoration-color: #000080; font-weight: bold\">44.72</span><span style=\"color: #000080; text-decoration-color: #000080; font-weight: bold\">]:&lt;event </span><span style=\"color: #000080; text-decoration-color: #000080; font-weight: bold\">6</span><span style=\"color: #000080; text-decoration-color: #000080; font-weight: bold\">&gt;: </span><span style=\"color: #000000; text-decoration-color: #000000\">new arrival 🤒</span>\n",
       "</pre>\n"
      ],
      "text/plain": [
       "\u001b[1;34m[\u001b[0m\u001b[1;34m44.72\u001b[0m\u001b[1;34m]\u001b[0m\u001b[1;34m:\u001b[0m\u001b[1;34m<\u001b[0m\u001b[1;34mevent\u001b[0m\u001b[1;34m \u001b[0m\u001b[1;34m6\u001b[0m\u001b[1;34m>\u001b[0m\u001b[1;34m: \u001b[0m\u001b[30mnew arrival 🤒\u001b[0m\n"
      ]
     },
     "metadata": {},
     "output_type": "display_data"
    }
   ],
   "source": [
    "# script to run model\n",
    "DEBUG = True\n",
    "SEED = 42\n",
    "arrival_dist = Exponential(5.0, random_seed=SEED)\n",
    "env = simpy.Environment()\n",
    "env.process(patient_generator(env, arrival_dist, DEBUG))\n",
    "env.run(50.0)"
   ]
  },
  {
   "cell_type": "markdown",
   "metadata": {},
   "source": [
    "## 3. Configure colouring of output\n",
    "\n",
    "\n",
    "In `trace` the `config` parameter is a user settable dictionary object. It can be used to change the colour of text in the trace.  We will first show a simple demonstration of setting options. and then use to illustrate how it is useful in practice.\n",
    "\n",
    "The default`config` is\n",
    "\n",
    "```python\n",
    "config = {\n",
    "    \"class\":None, \n",
    "    \"class_colour\":\"bold blue\", \n",
    "    \"time_colour\":'bold blue', \n",
    "    \"time_dp\":2,\n",
    "    \"message_colour\":'black',\n",
    "    \"tracked\":None\n",
    "}\n",
    "```\n",
    "\n",
    "* `class`: a string representing the class or type of trace event occuring.  This could be a process type for example, \"patient\", \"stroke patient\" or \"arrival\" or \"treatment\".\n",
    "* `class_colour`: choose a colour to display the class name e.g. \"green\" or \"bold green\"\n",
    "* `time_colour`: choose a colour to display the time\n",
    "* `time_dp`: choose the number of decimal places for time (default=2)\n",
    "* `message_color`: colour of the message text\n",
    "* `tracked`: a list containing identifiers (e.g. `[1, 2, 25]`) that limits what is tracked.  Works with `identiifier` parameters of `trace`\n",
    "\n",
    "> Note: you do not need to set all of the parameters.  Just set what you need and the defaults will be used for other parameters."
   ]
  },
  {
   "cell_type": "code",
   "execution_count": 4,
   "metadata": {},
   "outputs": [],
   "source": [
    "def get_config():\n",
    "    \"\"\"Returns a custom trace configuration\"\"\"\n",
    "    config = {\n",
    "        \"class\": \"Arrival\",\n",
    "        \"class_colour\": \"green\",\n",
    "        \"time_colour\": \"bold black\",\n",
    "        \"message_colour\": \"red\",\n",
    "    }\n",
    "    return config\n",
    "\n",
    "\n",
    "def patient_generator(\n",
    "    env: simpy.Environment, dist: Exponential, debug: Optional[bool] = False\n",
    "):\n",
    "    \"\"\"Generate patient arrivals to the treatment clinic\"\"\"\n",
    "    for patient_count in itertools.count(1):\n",
    "        # sample inter-arrival time\n",
    "        iat = dist.sample()\n",
    "        yield env.timeout(iat)\n",
    "        trace(\n",
    "            time=env.now,\n",
    "            debug=debug,\n",
    "            msg=\"new patient 🤒\",\n",
    "            identifier=patient_count,\n",
    "            config=get_config(),\n",
    "        )"
   ]
  },
  {
   "cell_type": "code",
   "execution_count": 5,
   "metadata": {},
   "outputs": [
    {
     "data": {
      "text/html": [
       "<pre style=\"white-space:pre;overflow-x:auto;line-height:normal;font-family:Menlo,'DejaVu Sans Mono',consolas,'Courier New',monospace\"><span style=\"color: #000000; text-decoration-color: #000000; font-weight: bold\">[</span><span style=\"color: #000000; text-decoration-color: #000000; font-weight: bold\">12.02</span><span style=\"color: #000000; text-decoration-color: #000000; font-weight: bold\">]:</span><span style=\"color: #008000; text-decoration-color: #008000; font-weight: bold\">&lt;Arrival</span><span style=\"color: #008000; text-decoration-color: #008000\"> </span><span style=\"color: #008000; text-decoration-color: #008000; font-weight: bold\">1</span><span style=\"color: #008000; text-decoration-color: #008000; font-weight: bold\">&gt;</span><span style=\"color: #008000; text-decoration-color: #008000\">: </span><span style=\"color: #800000; text-decoration-color: #800000\">new patient 🤒</span>\n",
       "</pre>\n"
      ],
      "text/plain": [
       "\u001b[1;30m[\u001b[0m\u001b[1;30m12.02\u001b[0m\u001b[1;30m]\u001b[0m\u001b[1;30m:\u001b[0m\u001b[1;32m<\u001b[0m\u001b[1;32mArrival\u001b[0m\u001b[32m \u001b[0m\u001b[1;32m1\u001b[0m\u001b[1;32m>\u001b[0m\u001b[32m: \u001b[0m\u001b[31mnew patient 🤒\u001b[0m\n"
      ]
     },
     "metadata": {},
     "output_type": "display_data"
    },
    {
     "data": {
      "text/html": [
       "<pre style=\"white-space:pre;overflow-x:auto;line-height:normal;font-family:Menlo,'DejaVu Sans Mono',consolas,'Courier New',monospace\"><span style=\"color: #000000; text-decoration-color: #000000; font-weight: bold\">[</span><span style=\"color: #000000; text-decoration-color: #000000; font-weight: bold\">23.70</span><span style=\"color: #000000; text-decoration-color: #000000; font-weight: bold\">]:</span><span style=\"color: #008000; text-decoration-color: #008000; font-weight: bold\">&lt;Arrival</span><span style=\"color: #008000; text-decoration-color: #008000\"> </span><span style=\"color: #008000; text-decoration-color: #008000; font-weight: bold\">2</span><span style=\"color: #008000; text-decoration-color: #008000; font-weight: bold\">&gt;</span><span style=\"color: #008000; text-decoration-color: #008000\">: </span><span style=\"color: #800000; text-decoration-color: #800000\">new patient 🤒</span>\n",
       "</pre>\n"
      ],
      "text/plain": [
       "\u001b[1;30m[\u001b[0m\u001b[1;30m23.70\u001b[0m\u001b[1;30m]\u001b[0m\u001b[1;30m:\u001b[0m\u001b[1;32m<\u001b[0m\u001b[1;32mArrival\u001b[0m\u001b[32m \u001b[0m\u001b[1;32m2\u001b[0m\u001b[1;32m>\u001b[0m\u001b[32m: \u001b[0m\u001b[31mnew patient 🤒\u001b[0m\n"
      ]
     },
     "metadata": {},
     "output_type": "display_data"
    },
    {
     "data": {
      "text/html": [
       "<pre style=\"white-space:pre;overflow-x:auto;line-height:normal;font-family:Menlo,'DejaVu Sans Mono',consolas,'Courier New',monospace\"><span style=\"color: #000000; text-decoration-color: #000000; font-weight: bold\">[</span><span style=\"color: #000000; text-decoration-color: #000000; font-weight: bold\">35.63</span><span style=\"color: #000000; text-decoration-color: #000000; font-weight: bold\">]:</span><span style=\"color: #008000; text-decoration-color: #008000; font-weight: bold\">&lt;Arrival</span><span style=\"color: #008000; text-decoration-color: #008000\"> </span><span style=\"color: #008000; text-decoration-color: #008000; font-weight: bold\">3</span><span style=\"color: #008000; text-decoration-color: #008000; font-weight: bold\">&gt;</span><span style=\"color: #008000; text-decoration-color: #008000\">: </span><span style=\"color: #800000; text-decoration-color: #800000\">new patient 🤒</span>\n",
       "</pre>\n"
      ],
      "text/plain": [
       "\u001b[1;30m[\u001b[0m\u001b[1;30m35.63\u001b[0m\u001b[1;30m]\u001b[0m\u001b[1;30m:\u001b[0m\u001b[1;32m<\u001b[0m\u001b[1;32mArrival\u001b[0m\u001b[32m \u001b[0m\u001b[1;32m3\u001b[0m\u001b[1;32m>\u001b[0m\u001b[32m: \u001b[0m\u001b[31mnew patient 🤒\u001b[0m\n"
      ]
     },
     "metadata": {},
     "output_type": "display_data"
    },
    {
     "data": {
      "text/html": [
       "<pre style=\"white-space:pre;overflow-x:auto;line-height:normal;font-family:Menlo,'DejaVu Sans Mono',consolas,'Courier New',monospace\"><span style=\"color: #000000; text-decoration-color: #000000; font-weight: bold\">[</span><span style=\"color: #000000; text-decoration-color: #000000; font-weight: bold\">37.02</span><span style=\"color: #000000; text-decoration-color: #000000; font-weight: bold\">]:</span><span style=\"color: #008000; text-decoration-color: #008000; font-weight: bold\">&lt;Arrival</span><span style=\"color: #008000; text-decoration-color: #008000\"> </span><span style=\"color: #008000; text-decoration-color: #008000; font-weight: bold\">4</span><span style=\"color: #008000; text-decoration-color: #008000; font-weight: bold\">&gt;</span><span style=\"color: #008000; text-decoration-color: #008000\">: </span><span style=\"color: #800000; text-decoration-color: #800000\">new patient 🤒</span>\n",
       "</pre>\n"
      ],
      "text/plain": [
       "\u001b[1;30m[\u001b[0m\u001b[1;30m37.02\u001b[0m\u001b[1;30m]\u001b[0m\u001b[1;30m:\u001b[0m\u001b[1;32m<\u001b[0m\u001b[1;32mArrival\u001b[0m\u001b[32m \u001b[0m\u001b[1;32m4\u001b[0m\u001b[1;32m>\u001b[0m\u001b[32m: \u001b[0m\u001b[31mnew patient 🤒\u001b[0m\n"
      ]
     },
     "metadata": {},
     "output_type": "display_data"
    },
    {
     "data": {
      "text/html": [
       "<pre style=\"white-space:pre;overflow-x:auto;line-height:normal;font-family:Menlo,'DejaVu Sans Mono',consolas,'Courier New',monospace\"><span style=\"color: #000000; text-decoration-color: #000000; font-weight: bold\">[</span><span style=\"color: #000000; text-decoration-color: #000000; font-weight: bold\">37.46</span><span style=\"color: #000000; text-decoration-color: #000000; font-weight: bold\">]:</span><span style=\"color: #008000; text-decoration-color: #008000; font-weight: bold\">&lt;Arrival</span><span style=\"color: #008000; text-decoration-color: #008000\"> </span><span style=\"color: #008000; text-decoration-color: #008000; font-weight: bold\">5</span><span style=\"color: #008000; text-decoration-color: #008000; font-weight: bold\">&gt;</span><span style=\"color: #008000; text-decoration-color: #008000\">: </span><span style=\"color: #800000; text-decoration-color: #800000\">new patient 🤒</span>\n",
       "</pre>\n"
      ],
      "text/plain": [
       "\u001b[1;30m[\u001b[0m\u001b[1;30m37.46\u001b[0m\u001b[1;30m]\u001b[0m\u001b[1;30m:\u001b[0m\u001b[1;32m<\u001b[0m\u001b[1;32mArrival\u001b[0m\u001b[32m \u001b[0m\u001b[1;32m5\u001b[0m\u001b[1;32m>\u001b[0m\u001b[32m: \u001b[0m\u001b[31mnew patient 🤒\u001b[0m\n"
      ]
     },
     "metadata": {},
     "output_type": "display_data"
    },
    {
     "data": {
      "text/html": [
       "<pre style=\"white-space:pre;overflow-x:auto;line-height:normal;font-family:Menlo,'DejaVu Sans Mono',consolas,'Courier New',monospace\"><span style=\"color: #000000; text-decoration-color: #000000; font-weight: bold\">[</span><span style=\"color: #000000; text-decoration-color: #000000; font-weight: bold\">44.72</span><span style=\"color: #000000; text-decoration-color: #000000; font-weight: bold\">]:</span><span style=\"color: #008000; text-decoration-color: #008000; font-weight: bold\">&lt;Arrival</span><span style=\"color: #008000; text-decoration-color: #008000\"> </span><span style=\"color: #008000; text-decoration-color: #008000; font-weight: bold\">6</span><span style=\"color: #008000; text-decoration-color: #008000; font-weight: bold\">&gt;</span><span style=\"color: #008000; text-decoration-color: #008000\">: </span><span style=\"color: #800000; text-decoration-color: #800000\">new patient 🤒</span>\n",
       "</pre>\n"
      ],
      "text/plain": [
       "\u001b[1;30m[\u001b[0m\u001b[1;30m44.72\u001b[0m\u001b[1;30m]\u001b[0m\u001b[1;30m:\u001b[0m\u001b[1;32m<\u001b[0m\u001b[1;32mArrival\u001b[0m\u001b[32m \u001b[0m\u001b[1;32m6\u001b[0m\u001b[1;32m>\u001b[0m\u001b[32m: \u001b[0m\u001b[31mnew patient 🤒\u001b[0m\n"
      ]
     },
     "metadata": {},
     "output_type": "display_data"
    }
   ],
   "source": [
    "# script to run model\n",
    "DEBUG = True\n",
    "SEED = 42\n",
    "arrival_dist = Exponential(5.0, random_seed=SEED)\n",
    "env = simpy.Environment()\n",
    "env.process(patient_generator(env, arrival_dist, DEBUG))\n",
    "env.run(50.0)"
   ]
  },
  {
   "cell_type": "markdown",
   "metadata": {},
   "source": [
    "## 4. Configuring multiple processes/ activities\n",
    "\n",
    "We modify the `simpy` example to include a `treatment` process.  We wish for treatment events to be easily seen in the trace output.  We therefore modify `get_config()` as follows:"
   ]
  },
  {
   "cell_type": "code",
   "execution_count": 6,
   "metadata": {},
   "outputs": [],
   "source": [
    "def get_config():\n",
    "    \"\"\"Returns a custom trace configuration for arrivals\"\"\"\n",
    "    config = {\n",
    "        \"arrivals\": {\n",
    "            \"class\": \"Patient\",\n",
    "            \"class_colour\": \"green\",\n",
    "            \"time_colour\": \"bold black\",\n",
    "            \"message_colour\": \"green\",\n",
    "        },\n",
    "        \"treatment\": {\n",
    "            \"class\": \"Patient\",\n",
    "            \"class_colour\": \"magenta\",\n",
    "            \"time_colour\": \"bold black\",\n",
    "            \"message_colour\": \"magenta\",\n",
    "        },\n",
    "    }\n",
    "\n",
    "    return config"
   ]
  },
  {
   "cell_type": "markdown",
   "metadata": {},
   "source": [
    "The function now returns a nested dictionary containing trace configurations for both arrivals and treatment processes.\n",
    "\n",
    "The modified `simpy` model is below.  We have included an `Experiment` class to hold our simulation input parameters. Note this has also been used to store the debug toggle.  This reduces the number of arguments each function requires.\n",
    "\n",
    "When we run the new model is it simple to distinguish between the trace for arrivals and the treatment.  \n",
    "\n",
    "> Note: this could be further fine tuned by manipulating which processes have `debug=True`"
   ]
  },
  {
   "cell_type": "code",
   "execution_count": 7,
   "metadata": {},
   "outputs": [],
   "source": [
    "class Experiment:\n",
    "    \"\"\"Parameter container\"\"\"\n",
    "\n",
    "    def __init__(\n",
    "        self, mean_iat: float, mean_service: float, debug: Optional[bool] = False\n",
    "    ):\n",
    "        self.arrival_dist = Exponential(mean_iat, random_seed=42)\n",
    "        self.treat_dist = Exponential(mean_service, random_seed=101)\n",
    "        self.debug = debug\n",
    "\n",
    "\n",
    "def treatment(env: simpy.Environment, exp: Experiment, patient_id: int):\n",
    "    \"\"\"Simulate a uncapacitated treatment process\"\"\"\n",
    "    trace(\n",
    "        time=env.now,\n",
    "        debug=exp.debug,\n",
    "        msg=\"enter treatment 👩🏻‍⚕️\",\n",
    "        identifier=patient_id,\n",
    "        config=get_config()[\"treatment\"],\n",
    "    )\n",
    "\n",
    "    # delay\n",
    "    service_time = exp.treat_dist.sample()\n",
    "    yield env.timeout(service_time)\n",
    "\n",
    "    trace(\n",
    "        time=env.now,\n",
    "        debug=exp.debug,\n",
    "        msg=\"treatment complete ⛔\",\n",
    "        identifier=patient_id,\n",
    "        config=get_config()[\"treatment\"],\n",
    "    )\n",
    "\n",
    "\n",
    "def patient_generator(env: simpy.Environment, exp: Experiment):\n",
    "    \"\"\"Generate patient arrivals to the treatment clinic\"\"\"\n",
    "    for patient_count in itertools.count(1):\n",
    "        # sample inter-arrival time\n",
    "        iat = exp.arrival_dist.sample()\n",
    "        yield env.timeout(iat)\n",
    "        trace(\n",
    "            time=env.now,\n",
    "            debug=exp.debug,\n",
    "            msg=\"new arrival 🤒\",\n",
    "            identifier=patient_count,\n",
    "            config=get_config()[\"arrivals\"],\n",
    "        )\n",
    "        env.process(treatment(env, exp, patient_count))"
   ]
  },
  {
   "cell_type": "code",
   "execution_count": 8,
   "metadata": {},
   "outputs": [
    {
     "data": {
      "text/html": [
       "<pre style=\"white-space:pre;overflow-x:auto;line-height:normal;font-family:Menlo,'DejaVu Sans Mono',consolas,'Courier New',monospace\"><span style=\"color: #000000; text-decoration-color: #000000; font-weight: bold\">[</span><span style=\"color: #000000; text-decoration-color: #000000; font-weight: bold\">12.02</span><span style=\"color: #000000; text-decoration-color: #000000; font-weight: bold\">]:</span><span style=\"color: #008000; text-decoration-color: #008000; font-weight: bold\">&lt;Patient</span><span style=\"color: #008000; text-decoration-color: #008000\"> </span><span style=\"color: #008000; text-decoration-color: #008000; font-weight: bold\">1</span><span style=\"color: #008000; text-decoration-color: #008000; font-weight: bold\">&gt;</span><span style=\"color: #008000; text-decoration-color: #008000\">: new arrival 🤒</span>\n",
       "</pre>\n"
      ],
      "text/plain": [
       "\u001b[1;30m[\u001b[0m\u001b[1;30m12.02\u001b[0m\u001b[1;30m]\u001b[0m\u001b[1;30m:\u001b[0m\u001b[1;32m<\u001b[0m\u001b[1;32mPatient\u001b[0m\u001b[32m \u001b[0m\u001b[1;32m1\u001b[0m\u001b[1;32m>\u001b[0m\u001b[32m: \u001b[0m\u001b[32mnew arrival 🤒\u001b[0m\n"
      ]
     },
     "metadata": {},
     "output_type": "display_data"
    },
    {
     "data": {
      "text/html": [
       "<pre style=\"white-space:pre;overflow-x:auto;line-height:normal;font-family:Menlo,'DejaVu Sans Mono',consolas,'Courier New',monospace\"><span style=\"color: #000000; text-decoration-color: #000000; font-weight: bold\">[</span><span style=\"color: #000000; text-decoration-color: #000000; font-weight: bold\">12.02</span><span style=\"color: #000000; text-decoration-color: #000000; font-weight: bold\">]:</span><span style=\"color: #800080; text-decoration-color: #800080; font-weight: bold\">&lt;Patient</span><span style=\"color: #800080; text-decoration-color: #800080\"> </span><span style=\"color: #800080; text-decoration-color: #800080; font-weight: bold\">1</span><span style=\"color: #800080; text-decoration-color: #800080; font-weight: bold\">&gt;</span><span style=\"color: #800080; text-decoration-color: #800080\">: enter treatment 👩🏻‍⚕️</span>\n",
       "</pre>\n"
      ],
      "text/plain": [
       "\u001b[1;30m[\u001b[0m\u001b[1;30m12.02\u001b[0m\u001b[1;30m]\u001b[0m\u001b[1;30m:\u001b[0m\u001b[1;35m<\u001b[0m\u001b[1;35mPatient\u001b[0m\u001b[35m \u001b[0m\u001b[1;35m1\u001b[0m\u001b[1;35m>\u001b[0m\u001b[35m: \u001b[0m\u001b[35menter treatment 👩🏻‍⚕️\u001b[0m\n"
      ]
     },
     "metadata": {},
     "output_type": "display_data"
    },
    {
     "data": {
      "text/html": [
       "<pre style=\"white-space:pre;overflow-x:auto;line-height:normal;font-family:Menlo,'DejaVu Sans Mono',consolas,'Courier New',monospace\"><span style=\"color: #000000; text-decoration-color: #000000; font-weight: bold\">[</span><span style=\"color: #000000; text-decoration-color: #000000; font-weight: bold\">23.70</span><span style=\"color: #000000; text-decoration-color: #000000; font-weight: bold\">]:</span><span style=\"color: #008000; text-decoration-color: #008000; font-weight: bold\">&lt;Patient</span><span style=\"color: #008000; text-decoration-color: #008000\"> </span><span style=\"color: #008000; text-decoration-color: #008000; font-weight: bold\">2</span><span style=\"color: #008000; text-decoration-color: #008000; font-weight: bold\">&gt;</span><span style=\"color: #008000; text-decoration-color: #008000\">: new arrival 🤒</span>\n",
       "</pre>\n"
      ],
      "text/plain": [
       "\u001b[1;30m[\u001b[0m\u001b[1;30m23.70\u001b[0m\u001b[1;30m]\u001b[0m\u001b[1;30m:\u001b[0m\u001b[1;32m<\u001b[0m\u001b[1;32mPatient\u001b[0m\u001b[32m \u001b[0m\u001b[1;32m2\u001b[0m\u001b[1;32m>\u001b[0m\u001b[32m: \u001b[0m\u001b[32mnew arrival 🤒\u001b[0m\n"
      ]
     },
     "metadata": {},
     "output_type": "display_data"
    },
    {
     "data": {
      "text/html": [
       "<pre style=\"white-space:pre;overflow-x:auto;line-height:normal;font-family:Menlo,'DejaVu Sans Mono',consolas,'Courier New',monospace\"><span style=\"color: #000000; text-decoration-color: #000000; font-weight: bold\">[</span><span style=\"color: #000000; text-decoration-color: #000000; font-weight: bold\">23.70</span><span style=\"color: #000000; text-decoration-color: #000000; font-weight: bold\">]:</span><span style=\"color: #800080; text-decoration-color: #800080; font-weight: bold\">&lt;Patient</span><span style=\"color: #800080; text-decoration-color: #800080\"> </span><span style=\"color: #800080; text-decoration-color: #800080; font-weight: bold\">2</span><span style=\"color: #800080; text-decoration-color: #800080; font-weight: bold\">&gt;</span><span style=\"color: #800080; text-decoration-color: #800080\">: enter treatment 👩🏻‍⚕️</span>\n",
       "</pre>\n"
      ],
      "text/plain": [
       "\u001b[1;30m[\u001b[0m\u001b[1;30m23.70\u001b[0m\u001b[1;30m]\u001b[0m\u001b[1;30m:\u001b[0m\u001b[1;35m<\u001b[0m\u001b[1;35mPatient\u001b[0m\u001b[35m \u001b[0m\u001b[1;35m2\u001b[0m\u001b[1;35m>\u001b[0m\u001b[35m: \u001b[0m\u001b[35menter treatment 👩🏻‍⚕️\u001b[0m\n"
      ]
     },
     "metadata": {},
     "output_type": "display_data"
    },
    {
     "data": {
      "text/html": [
       "<pre style=\"white-space:pre;overflow-x:auto;line-height:normal;font-family:Menlo,'DejaVu Sans Mono',consolas,'Courier New',monospace\"><span style=\"color: #000000; text-decoration-color: #000000; font-weight: bold\">[</span><span style=\"color: #000000; text-decoration-color: #000000; font-weight: bold\">29.48</span><span style=\"color: #000000; text-decoration-color: #000000; font-weight: bold\">]:</span><span style=\"color: #800080; text-decoration-color: #800080; font-weight: bold\">&lt;Patient</span><span style=\"color: #800080; text-decoration-color: #800080\"> </span><span style=\"color: #800080; text-decoration-color: #800080; font-weight: bold\">2</span><span style=\"color: #800080; text-decoration-color: #800080; font-weight: bold\">&gt;</span><span style=\"color: #800080; text-decoration-color: #800080\">: treatment complete ⛔</span>\n",
       "</pre>\n"
      ],
      "text/plain": [
       "\u001b[1;30m[\u001b[0m\u001b[1;30m29.48\u001b[0m\u001b[1;30m]\u001b[0m\u001b[1;30m:\u001b[0m\u001b[1;35m<\u001b[0m\u001b[1;35mPatient\u001b[0m\u001b[35m \u001b[0m\u001b[1;35m2\u001b[0m\u001b[1;35m>\u001b[0m\u001b[35m: \u001b[0m\u001b[35mtreatment complete ⛔\u001b[0m\n"
      ]
     },
     "metadata": {},
     "output_type": "display_data"
    },
    {
     "data": {
      "text/html": [
       "<pre style=\"white-space:pre;overflow-x:auto;line-height:normal;font-family:Menlo,'DejaVu Sans Mono',consolas,'Courier New',monospace\"><span style=\"color: #000000; text-decoration-color: #000000; font-weight: bold\">[</span><span style=\"color: #000000; text-decoration-color: #000000; font-weight: bold\">35.63</span><span style=\"color: #000000; text-decoration-color: #000000; font-weight: bold\">]:</span><span style=\"color: #008000; text-decoration-color: #008000; font-weight: bold\">&lt;Patient</span><span style=\"color: #008000; text-decoration-color: #008000\"> </span><span style=\"color: #008000; text-decoration-color: #008000; font-weight: bold\">3</span><span style=\"color: #008000; text-decoration-color: #008000; font-weight: bold\">&gt;</span><span style=\"color: #008000; text-decoration-color: #008000\">: new arrival 🤒</span>\n",
       "</pre>\n"
      ],
      "text/plain": [
       "\u001b[1;30m[\u001b[0m\u001b[1;30m35.63\u001b[0m\u001b[1;30m]\u001b[0m\u001b[1;30m:\u001b[0m\u001b[1;32m<\u001b[0m\u001b[1;32mPatient\u001b[0m\u001b[32m \u001b[0m\u001b[1;32m3\u001b[0m\u001b[1;32m>\u001b[0m\u001b[32m: \u001b[0m\u001b[32mnew arrival 🤒\u001b[0m\n"
      ]
     },
     "metadata": {},
     "output_type": "display_data"
    },
    {
     "data": {
      "text/html": [
       "<pre style=\"white-space:pre;overflow-x:auto;line-height:normal;font-family:Menlo,'DejaVu Sans Mono',consolas,'Courier New',monospace\"><span style=\"color: #000000; text-decoration-color: #000000; font-weight: bold\">[</span><span style=\"color: #000000; text-decoration-color: #000000; font-weight: bold\">35.63</span><span style=\"color: #000000; text-decoration-color: #000000; font-weight: bold\">]:</span><span style=\"color: #800080; text-decoration-color: #800080; font-weight: bold\">&lt;Patient</span><span style=\"color: #800080; text-decoration-color: #800080\"> </span><span style=\"color: #800080; text-decoration-color: #800080; font-weight: bold\">3</span><span style=\"color: #800080; text-decoration-color: #800080; font-weight: bold\">&gt;</span><span style=\"color: #800080; text-decoration-color: #800080\">: enter treatment 👩🏻‍⚕️</span>\n",
       "</pre>\n"
      ],
      "text/plain": [
       "\u001b[1;30m[\u001b[0m\u001b[1;30m35.63\u001b[0m\u001b[1;30m]\u001b[0m\u001b[1;30m:\u001b[0m\u001b[1;35m<\u001b[0m\u001b[1;35mPatient\u001b[0m\u001b[35m \u001b[0m\u001b[1;35m3\u001b[0m\u001b[1;35m>\u001b[0m\u001b[35m: \u001b[0m\u001b[35menter treatment 👩🏻‍⚕️\u001b[0m\n"
      ]
     },
     "metadata": {},
     "output_type": "display_data"
    },
    {
     "data": {
      "text/html": [
       "<pre style=\"white-space:pre;overflow-x:auto;line-height:normal;font-family:Menlo,'DejaVu Sans Mono',consolas,'Courier New',monospace\"><span style=\"color: #000000; text-decoration-color: #000000; font-weight: bold\">[</span><span style=\"color: #000000; text-decoration-color: #000000; font-weight: bold\">37.02</span><span style=\"color: #000000; text-decoration-color: #000000; font-weight: bold\">]:</span><span style=\"color: #008000; text-decoration-color: #008000; font-weight: bold\">&lt;Patient</span><span style=\"color: #008000; text-decoration-color: #008000\"> </span><span style=\"color: #008000; text-decoration-color: #008000; font-weight: bold\">4</span><span style=\"color: #008000; text-decoration-color: #008000; font-weight: bold\">&gt;</span><span style=\"color: #008000; text-decoration-color: #008000\">: new arrival 🤒</span>\n",
       "</pre>\n"
      ],
      "text/plain": [
       "\u001b[1;30m[\u001b[0m\u001b[1;30m37.02\u001b[0m\u001b[1;30m]\u001b[0m\u001b[1;30m:\u001b[0m\u001b[1;32m<\u001b[0m\u001b[1;32mPatient\u001b[0m\u001b[32m \u001b[0m\u001b[1;32m4\u001b[0m\u001b[1;32m>\u001b[0m\u001b[32m: \u001b[0m\u001b[32mnew arrival 🤒\u001b[0m\n"
      ]
     },
     "metadata": {},
     "output_type": "display_data"
    },
    {
     "data": {
      "text/html": [
       "<pre style=\"white-space:pre;overflow-x:auto;line-height:normal;font-family:Menlo,'DejaVu Sans Mono',consolas,'Courier New',monospace\"><span style=\"color: #000000; text-decoration-color: #000000; font-weight: bold\">[</span><span style=\"color: #000000; text-decoration-color: #000000; font-weight: bold\">37.02</span><span style=\"color: #000000; text-decoration-color: #000000; font-weight: bold\">]:</span><span style=\"color: #800080; text-decoration-color: #800080; font-weight: bold\">&lt;Patient</span><span style=\"color: #800080; text-decoration-color: #800080\"> </span><span style=\"color: #800080; text-decoration-color: #800080; font-weight: bold\">4</span><span style=\"color: #800080; text-decoration-color: #800080; font-weight: bold\">&gt;</span><span style=\"color: #800080; text-decoration-color: #800080\">: enter treatment 👩🏻‍⚕️</span>\n",
       "</pre>\n"
      ],
      "text/plain": [
       "\u001b[1;30m[\u001b[0m\u001b[1;30m37.02\u001b[0m\u001b[1;30m]\u001b[0m\u001b[1;30m:\u001b[0m\u001b[1;35m<\u001b[0m\u001b[1;35mPatient\u001b[0m\u001b[35m \u001b[0m\u001b[1;35m4\u001b[0m\u001b[1;35m>\u001b[0m\u001b[35m: \u001b[0m\u001b[35menter treatment 👩🏻‍⚕️\u001b[0m\n"
      ]
     },
     "metadata": {},
     "output_type": "display_data"
    },
    {
     "data": {
      "text/html": [
       "<pre style=\"white-space:pre;overflow-x:auto;line-height:normal;font-family:Menlo,'DejaVu Sans Mono',consolas,'Courier New',monospace\"><span style=\"color: #000000; text-decoration-color: #000000; font-weight: bold\">[</span><span style=\"color: #000000; text-decoration-color: #000000; font-weight: bold\">37.46</span><span style=\"color: #000000; text-decoration-color: #000000; font-weight: bold\">]:</span><span style=\"color: #008000; text-decoration-color: #008000; font-weight: bold\">&lt;Patient</span><span style=\"color: #008000; text-decoration-color: #008000\"> </span><span style=\"color: #008000; text-decoration-color: #008000; font-weight: bold\">5</span><span style=\"color: #008000; text-decoration-color: #008000; font-weight: bold\">&gt;</span><span style=\"color: #008000; text-decoration-color: #008000\">: new arrival 🤒</span>\n",
       "</pre>\n"
      ],
      "text/plain": [
       "\u001b[1;30m[\u001b[0m\u001b[1;30m37.46\u001b[0m\u001b[1;30m]\u001b[0m\u001b[1;30m:\u001b[0m\u001b[1;32m<\u001b[0m\u001b[1;32mPatient\u001b[0m\u001b[32m \u001b[0m\u001b[1;32m5\u001b[0m\u001b[1;32m>\u001b[0m\u001b[32m: \u001b[0m\u001b[32mnew arrival 🤒\u001b[0m\n"
      ]
     },
     "metadata": {},
     "output_type": "display_data"
    },
    {
     "data": {
      "text/html": [
       "<pre style=\"white-space:pre;overflow-x:auto;line-height:normal;font-family:Menlo,'DejaVu Sans Mono',consolas,'Courier New',monospace\"><span style=\"color: #000000; text-decoration-color: #000000; font-weight: bold\">[</span><span style=\"color: #000000; text-decoration-color: #000000; font-weight: bold\">37.46</span><span style=\"color: #000000; text-decoration-color: #000000; font-weight: bold\">]:</span><span style=\"color: #800080; text-decoration-color: #800080; font-weight: bold\">&lt;Patient</span><span style=\"color: #800080; text-decoration-color: #800080\"> </span><span style=\"color: #800080; text-decoration-color: #800080; font-weight: bold\">5</span><span style=\"color: #800080; text-decoration-color: #800080; font-weight: bold\">&gt;</span><span style=\"color: #800080; text-decoration-color: #800080\">: enter treatment 👩🏻‍⚕️</span>\n",
       "</pre>\n"
      ],
      "text/plain": [
       "\u001b[1;30m[\u001b[0m\u001b[1;30m37.46\u001b[0m\u001b[1;30m]\u001b[0m\u001b[1;30m:\u001b[0m\u001b[1;35m<\u001b[0m\u001b[1;35mPatient\u001b[0m\u001b[35m \u001b[0m\u001b[1;35m5\u001b[0m\u001b[1;35m>\u001b[0m\u001b[35m: \u001b[0m\u001b[35menter treatment 👩🏻‍⚕️\u001b[0m\n"
      ]
     },
     "metadata": {},
     "output_type": "display_data"
    }
   ],
   "source": [
    "# script to run model\n",
    "DEBUG = True\n",
    "experiment = Experiment(5.0, 10.0, DEBUG)\n",
    "env = simpy.Environment()\n",
    "env.process(patient_generator(env, experiment))\n",
    "env.run(40.0)"
   ]
  },
  {
   "cell_type": "markdown",
   "metadata": {},
   "source": [
    "## Tracking\n",
    "\n",
    "Assume we wish to track patients 4 and 5.  The `config['tracking']` option accepts a list of identifiers and will limit trace output. For simple models it is best to add this as a parameter in the Experiment class.\n",
    "\n",
    "The script below declares the variable `TRACKED=[4, 5]`\n",
    "\n",
    "> Note that when there are a lot of processes to track it may be become simplier to use the object orientated interface to trace functionality.\n"
   ]
  },
  {
   "cell_type": "code",
   "execution_count": 9,
   "metadata": {},
   "outputs": [],
   "source": [
    "class Experiment:\n",
    "    \"\"\"Parameter container\"\"\"\n",
    "\n",
    "    def __init__(\n",
    "        self,\n",
    "        mean_iat: float,\n",
    "        mean_service: float,\n",
    "        debug: Optional[bool] = False,\n",
    "        tracked: Optional[list] = None,\n",
    "    ):\n",
    "        self.arrival_dist = Exponential(mean_iat, random_seed=42)\n",
    "        self.treat_dist = Exponential(mean_service, random_seed=101)\n",
    "        self.debug = debug\n",
    "        self.tracked = tracked\n",
    "\n",
    "\n",
    "def get_config(exp: Experiment):\n",
    "    \"\"\"Returns a custom trace configuration for arrivals\n",
    "    and treatment\n",
    "\n",
    "    Modified to add tracking information to each config\"\"\"\n",
    "    config = {\n",
    "        \"arrivals\": {\n",
    "            \"class\": \"Patient\",\n",
    "            \"class_colour\": \"green\",\n",
    "            \"time_colour\": \"bold black\",\n",
    "            \"message_colour\": \"green\",\n",
    "            \"tracked\": exp.tracked,\n",
    "        },\n",
    "        \"treatment\": {\n",
    "            \"class\": \"Patient\",\n",
    "            \"class_colour\": \"magenta\",\n",
    "            \"time_colour\": \"bold black\",\n",
    "            \"message_colour\": \"magenta\",\n",
    "            \"tracked\": exp.tracked,\n",
    "        },\n",
    "    }\n",
    "\n",
    "    return config\n",
    "\n",
    "\n",
    "def treatment(env: simpy.Environment, exp: Experiment, patient_id: int):\n",
    "    \"\"\"Simulate a uncapacitated treatment process\"\"\"\n",
    "    trace(\n",
    "        time=env.now,\n",
    "        debug=exp.debug,\n",
    "        msg=\"enter treatment 👩🏻‍⚕️\",\n",
    "        identifier=patient_id,\n",
    "        config=get_config(exp)[\"treatment\"],\n",
    "    )\n",
    "\n",
    "    # delay\n",
    "    service_time = exp.treat_dist.sample()\n",
    "    yield env.timeout(service_time)\n",
    "\n",
    "    trace(\n",
    "        time=env.now,\n",
    "        debug=exp.debug,\n",
    "        msg=\"treatment complete ⛔\",\n",
    "        identifier=patient_id,\n",
    "        config=get_config(exp)[\"treatment\"],\n",
    "    )\n",
    "\n",
    "\n",
    "def patient_generator(env: simpy.Environment, exp: Experiment):\n",
    "    \"\"\"Generate patient arrivals to the treatment clinic\"\"\"\n",
    "    for patient_count in itertools.count(1):\n",
    "        # sample inter-arrival time\n",
    "        iat = exp.arrival_dist.sample()\n",
    "        yield env.timeout(iat)\n",
    "        trace(\n",
    "            time=env.now,\n",
    "            debug=exp.debug,\n",
    "            msg=\"new arrival 🤒\",\n",
    "            identifier=patient_count,\n",
    "            config=get_config(exp)[\"arrivals\"],\n",
    "        )\n",
    "        env.process(treatment(env, exp, patient_count))"
   ]
  },
  {
   "cell_type": "code",
   "execution_count": 10,
   "metadata": {},
   "outputs": [
    {
     "data": {
      "text/html": [
       "<pre style=\"white-space:pre;overflow-x:auto;line-height:normal;font-family:Menlo,'DejaVu Sans Mono',consolas,'Courier New',monospace\"><span style=\"color: #000000; text-decoration-color: #000000; font-weight: bold\">[</span><span style=\"color: #000000; text-decoration-color: #000000; font-weight: bold\">37.02</span><span style=\"color: #000000; text-decoration-color: #000000; font-weight: bold\">]:</span><span style=\"color: #008000; text-decoration-color: #008000; font-weight: bold\">&lt;Patient</span><span style=\"color: #008000; text-decoration-color: #008000\"> </span><span style=\"color: #008000; text-decoration-color: #008000; font-weight: bold\">4</span><span style=\"color: #008000; text-decoration-color: #008000; font-weight: bold\">&gt;</span><span style=\"color: #008000; text-decoration-color: #008000\">: new arrival 🤒</span>\n",
       "</pre>\n"
      ],
      "text/plain": [
       "\u001b[1;30m[\u001b[0m\u001b[1;30m37.02\u001b[0m\u001b[1;30m]\u001b[0m\u001b[1;30m:\u001b[0m\u001b[1;32m<\u001b[0m\u001b[1;32mPatient\u001b[0m\u001b[32m \u001b[0m\u001b[1;32m4\u001b[0m\u001b[1;32m>\u001b[0m\u001b[32m: \u001b[0m\u001b[32mnew arrival 🤒\u001b[0m\n"
      ]
     },
     "metadata": {},
     "output_type": "display_data"
    },
    {
     "data": {
      "text/html": [
       "<pre style=\"white-space:pre;overflow-x:auto;line-height:normal;font-family:Menlo,'DejaVu Sans Mono',consolas,'Courier New',monospace\"><span style=\"color: #000000; text-decoration-color: #000000; font-weight: bold\">[</span><span style=\"color: #000000; text-decoration-color: #000000; font-weight: bold\">37.02</span><span style=\"color: #000000; text-decoration-color: #000000; font-weight: bold\">]:</span><span style=\"color: #800080; text-decoration-color: #800080; font-weight: bold\">&lt;Patient</span><span style=\"color: #800080; text-decoration-color: #800080\"> </span><span style=\"color: #800080; text-decoration-color: #800080; font-weight: bold\">4</span><span style=\"color: #800080; text-decoration-color: #800080; font-weight: bold\">&gt;</span><span style=\"color: #800080; text-decoration-color: #800080\">: enter treatment 👩🏻‍⚕️</span>\n",
       "</pre>\n"
      ],
      "text/plain": [
       "\u001b[1;30m[\u001b[0m\u001b[1;30m37.02\u001b[0m\u001b[1;30m]\u001b[0m\u001b[1;30m:\u001b[0m\u001b[1;35m<\u001b[0m\u001b[1;35mPatient\u001b[0m\u001b[35m \u001b[0m\u001b[1;35m4\u001b[0m\u001b[1;35m>\u001b[0m\u001b[35m: \u001b[0m\u001b[35menter treatment 👩🏻‍⚕️\u001b[0m\n"
      ]
     },
     "metadata": {},
     "output_type": "display_data"
    },
    {
     "data": {
      "text/html": [
       "<pre style=\"white-space:pre;overflow-x:auto;line-height:normal;font-family:Menlo,'DejaVu Sans Mono',consolas,'Courier New',monospace\"><span style=\"color: #000000; text-decoration-color: #000000; font-weight: bold\">[</span><span style=\"color: #000000; text-decoration-color: #000000; font-weight: bold\">37.46</span><span style=\"color: #000000; text-decoration-color: #000000; font-weight: bold\">]:</span><span style=\"color: #008000; text-decoration-color: #008000; font-weight: bold\">&lt;Patient</span><span style=\"color: #008000; text-decoration-color: #008000\"> </span><span style=\"color: #008000; text-decoration-color: #008000; font-weight: bold\">5</span><span style=\"color: #008000; text-decoration-color: #008000; font-weight: bold\">&gt;</span><span style=\"color: #008000; text-decoration-color: #008000\">: new arrival 🤒</span>\n",
       "</pre>\n"
      ],
      "text/plain": [
       "\u001b[1;30m[\u001b[0m\u001b[1;30m37.46\u001b[0m\u001b[1;30m]\u001b[0m\u001b[1;30m:\u001b[0m\u001b[1;32m<\u001b[0m\u001b[1;32mPatient\u001b[0m\u001b[32m \u001b[0m\u001b[1;32m5\u001b[0m\u001b[1;32m>\u001b[0m\u001b[32m: \u001b[0m\u001b[32mnew arrival 🤒\u001b[0m\n"
      ]
     },
     "metadata": {},
     "output_type": "display_data"
    },
    {
     "data": {
      "text/html": [
       "<pre style=\"white-space:pre;overflow-x:auto;line-height:normal;font-family:Menlo,'DejaVu Sans Mono',consolas,'Courier New',monospace\"><span style=\"color: #000000; text-decoration-color: #000000; font-weight: bold\">[</span><span style=\"color: #000000; text-decoration-color: #000000; font-weight: bold\">37.46</span><span style=\"color: #000000; text-decoration-color: #000000; font-weight: bold\">]:</span><span style=\"color: #800080; text-decoration-color: #800080; font-weight: bold\">&lt;Patient</span><span style=\"color: #800080; text-decoration-color: #800080\"> </span><span style=\"color: #800080; text-decoration-color: #800080; font-weight: bold\">5</span><span style=\"color: #800080; text-decoration-color: #800080; font-weight: bold\">&gt;</span><span style=\"color: #800080; text-decoration-color: #800080\">: enter treatment 👩🏻‍⚕️</span>\n",
       "</pre>\n"
      ],
      "text/plain": [
       "\u001b[1;30m[\u001b[0m\u001b[1;30m37.46\u001b[0m\u001b[1;30m]\u001b[0m\u001b[1;30m:\u001b[0m\u001b[1;35m<\u001b[0m\u001b[1;35mPatient\u001b[0m\u001b[35m \u001b[0m\u001b[1;35m5\u001b[0m\u001b[1;35m>\u001b[0m\u001b[35m: \u001b[0m\u001b[35menter treatment 👩🏻‍⚕️\u001b[0m\n"
      ]
     },
     "metadata": {},
     "output_type": "display_data"
    },
    {
     "data": {
      "text/html": [
       "<pre style=\"white-space:pre;overflow-x:auto;line-height:normal;font-family:Menlo,'DejaVu Sans Mono',consolas,'Courier New',monospace\"><span style=\"color: #000000; text-decoration-color: #000000; font-weight: bold\">[</span><span style=\"color: #000000; text-decoration-color: #000000; font-weight: bold\">43.86</span><span style=\"color: #000000; text-decoration-color: #000000; font-weight: bold\">]:</span><span style=\"color: #800080; text-decoration-color: #800080; font-weight: bold\">&lt;Patient</span><span style=\"color: #800080; text-decoration-color: #800080\"> </span><span style=\"color: #800080; text-decoration-color: #800080; font-weight: bold\">5</span><span style=\"color: #800080; text-decoration-color: #800080; font-weight: bold\">&gt;</span><span style=\"color: #800080; text-decoration-color: #800080\">: treatment complete ⛔</span>\n",
       "</pre>\n"
      ],
      "text/plain": [
       "\u001b[1;30m[\u001b[0m\u001b[1;30m43.86\u001b[0m\u001b[1;30m]\u001b[0m\u001b[1;30m:\u001b[0m\u001b[1;35m<\u001b[0m\u001b[1;35mPatient\u001b[0m\u001b[35m \u001b[0m\u001b[1;35m5\u001b[0m\u001b[1;35m>\u001b[0m\u001b[35m: \u001b[0m\u001b[35mtreatment complete ⛔\u001b[0m\n"
      ]
     },
     "metadata": {},
     "output_type": "display_data"
    },
    {
     "data": {
      "text/html": [
       "<pre style=\"white-space:pre;overflow-x:auto;line-height:normal;font-family:Menlo,'DejaVu Sans Mono',consolas,'Courier New',monospace\"><span style=\"color: #000000; text-decoration-color: #000000; font-weight: bold\">[</span><span style=\"color: #000000; text-decoration-color: #000000; font-weight: bold\">47.35</span><span style=\"color: #000000; text-decoration-color: #000000; font-weight: bold\">]:</span><span style=\"color: #800080; text-decoration-color: #800080; font-weight: bold\">&lt;Patient</span><span style=\"color: #800080; text-decoration-color: #800080\"> </span><span style=\"color: #800080; text-decoration-color: #800080; font-weight: bold\">4</span><span style=\"color: #800080; text-decoration-color: #800080; font-weight: bold\">&gt;</span><span style=\"color: #800080; text-decoration-color: #800080\">: treatment complete ⛔</span>\n",
       "</pre>\n"
      ],
      "text/plain": [
       "\u001b[1;30m[\u001b[0m\u001b[1;30m47.35\u001b[0m\u001b[1;30m]\u001b[0m\u001b[1;30m:\u001b[0m\u001b[1;35m<\u001b[0m\u001b[1;35mPatient\u001b[0m\u001b[35m \u001b[0m\u001b[1;35m4\u001b[0m\u001b[1;35m>\u001b[0m\u001b[35m: \u001b[0m\u001b[35mtreatment complete ⛔\u001b[0m\n"
      ]
     },
     "metadata": {},
     "output_type": "display_data"
    }
   ],
   "source": [
    "# script to run model\n",
    "DEBUG = True\n",
    "TRACKED = [4, 5]\n",
    "experiment = Experiment(5.0, 10.0, DEBUG, TRACKED)\n",
    "env = simpy.Environment()\n",
    "env.process(patient_generator(env, experiment))\n",
    "env.run(50.0)"
   ]
  },
  {
   "cell_type": "markdown",
   "metadata": {},
   "source": []
  }
 ],
 "metadata": {
  "kernelspec": {
   "display_name": "Python 3",
   "language": "python",
   "name": "python3"
  },
  "language_info": {
   "codemirror_mode": {
    "name": "ipython",
    "version": 3
   },
   "file_extension": ".py",
   "mimetype": "text/x-python",
   "name": "python",
   "nbconvert_exporter": "python",
   "pygments_lexer": "ipython3",
   "version": "3.11.6"
  }
 },
 "nbformat": 4,
 "nbformat_minor": 2
}
